{
  "nbformat": 4,
  "nbformat_minor": 0,
  "metadata": {
    "colab": {
      "provenance": []
    },
    "kernelspec": {
      "name": "python3",
      "display_name": "Python 3"
    },
    "language_info": {
      "name": "python"
    }
  },
  "cells": [
    {
      "cell_type": "markdown",
      "source": [
        "# Apresentação ✒️\n",
        "\n",
        "\n",
        "Notebook destinado ao estudo e implementação de advanced retrieval com Chroma, um framework que permite a criação de banco de dados vetorial, capaz de prover recuperação de inforamação, a partir de uma consulta do usuário, com base na similaridade vetorial.\n",
        "\n",
        "Advanced retrieval se circunscreve no escopo da técnica conhecida como Retrieval Argumentend Generation (RAG), na qual determina ao modelo de LLM realizar uma consulta em conjunto previamente armazenadas ou buscadas, como forma de produzir uma resposta mais assertiva e apurada.\n",
        "\n",
        "Não obstante, apesar de sua relevância para aplicações que envolvem IA's generativas, a sua eficiência encontra alguns desafios, principalmente associados na recuperação de informações com base na consulta do usuário que, além de possuírem similaridade vetorial, possuam também relevância.\n",
        "\n",
        "Ao longo do notebook será exposto um cenário no qual é possível observar que apenas a similaridade vetorial não garante sempre que os melhores dados sejam recuperados e, assim, possa ao modelo oferecer uma resposta efetiva ao usuário, motivando a implementação de outras técnicas, como *expansive query* e *crossencoder - rerank*.\n",
        "\n",
        "Expansive query se refere ao processo no qual informamos ao modelo de LLM a consulta do usuário e a partir dessa pedimos que ele gere uma possível resposta ou enumere algumas perguntas, que possam melhor delimitar o campo de busca dos dados.\n",
        "\n",
        "Por outro lado, o crossencoder - rerank se trata de uma combinação de técnicas entre um crossencoder com rerank, o processo de rankeamento dos dados trazidos com base em sua maior relevância, auferida pela menor distância vetorial entre os dados.\n",
        "\n",
        "Nesse cenário, o crossencoder já é desempenhado pela implementação da expansive query, que irá realizar a extração primária de informação a partir do conjunto dos dados totais, enquanto que o rerank será a segunda extração da informação, que irá considerar apenas os itens mais relevantes do universo pré-selecionado.\n",
        "\n",
        "Para esse estudo, o arquivo que servirá como caso de uso será um artigo da Microsoft, acerca de um reporte financeiro de 2022. O objetivo será demonstrar a eficiência de cada técnica de advanced retrieval, comparando-a com uma recuperação de baseline na qual utiliza-se apenas a similaridade vetorial como ferramenta de procura. Além disso, para a sua elaboração, irei passar por tópicos importantes ao processo da criação do banco de dados, inclusive do load do conjunto de dados e sua divisão, para que possa tornar a procura de informação mais eficiente."
      ],
      "metadata": {
        "id": "WE_oBmV0Snzx"
      }
    },
    {
      "cell_type": "markdown",
      "source": [
        "## Biblioteca 📚"
      ],
      "metadata": {
        "id": "FrqX00_cZpv1"
      }
    },
    {
      "cell_type": "code",
      "execution_count": 1,
      "metadata": {
        "colab": {
          "base_uri": "https://localhost:8080/"
        },
        "id": "zxaDnNgEQc-e",
        "outputId": "1508389b-9a49-4cb8-da98-f4d8e0f40613"
      },
      "outputs": [
        {
          "output_type": "stream",
          "name": "stdout",
          "text": [
            "\u001b[31mERROR: Could not find a version that satisfies the requirement google_generative_ai (from versions: none)\u001b[0m\u001b[31m\n",
            "\u001b[0m\u001b[31mERROR: No matching distribution found for google_generative_ai\u001b[0m\u001b[31m\n",
            "\u001b[0m"
          ]
        }
      ],
      "source": [
        "!pip install langchain -q\n",
        "\n",
        "!pip install langchain_community -q\n",
        "\n",
        "!pip install langchain_google_genai -q\n",
        "\n",
        "!pip install chromadb -q\n",
        "\n",
        "!pip install google_generative_ai -q\n",
        "\n",
        "!pip install pypdf -q\n",
        "\n",
        "!pip install sentence_transformers -q\n",
        "\n",
        "!pip install umap-learn -q"
      ]
    },
    {
      "cell_type": "code",
      "source": [
        "import os\n",
        "import umap.umap_ as umap\n",
        "import numpy as np\n",
        "import chromadb\n",
        "import google.generativeai as genai\n",
        "import matplotlib.pyplot as plt\n",
        "\n",
        "from langchain.document_loaders import PyPDFLoader\n",
        "from langchain_text_splitters import RecursiveCharacterTextSplitter, SentenceTransformersTokenTextSplitter\n",
        "\n",
        "from langchain_google_genai import ChatGoogleGenerativeAI\n",
        "\n",
        "from langchain import PromptTemplate\n",
        "from langchain.chains import LLMChain\n",
        "\n",
        "from pypdf import PdfReader\n",
        "\n",
        "from chromadb.utils.embedding_functions import SentenceTransformerEmbeddingFunction\n",
        "\n",
        "from sentence_transformers import CrossEncoder\n",
        "\n",
        "from tqdm import tqdm"
      ],
      "metadata": {
        "id": "-exFE0XoSBNH"
      },
      "execution_count": 2,
      "outputs": []
    },
    {
      "cell_type": "code",
      "source": [
        "import warnings\n",
        "warnings.filterwarnings(\"ignore\")"
      ],
      "metadata": {
        "id": "YF5b0McGD9-d"
      },
      "execution_count": 3,
      "outputs": []
    },
    {
      "cell_type": "markdown",
      "source": [
        "## Definindo as variáveis de ambiente"
      ],
      "metadata": {
        "id": "zJzgEuK5aYWv"
      }
    },
    {
      "cell_type": "code",
      "source": [
        "os.environ[\"GOOGLE_API_KEY\"] = \"\"\n",
        "\n",
        "genai.configure(api_key=os.environ[\"GOOGLE_API_KEY\"])"
      ],
      "metadata": {
        "id": "03CfIW8KSFC_"
      },
      "execution_count": 4,
      "outputs": []
    },
    {
      "cell_type": "markdown",
      "source": [
        "## Definindo o modelo de LLM de uso"
      ],
      "metadata": {
        "id": "TUSxeoSyacW0"
      }
    },
    {
      "cell_type": "code",
      "source": [
        "llm = ChatGoogleGenerativeAI(\n",
        "    model = \"gemini-1.5-pro-latest\",\n",
        "    temperature=0.2\n",
        ")"
      ],
      "metadata": {
        "id": "Zi1cyJnISYCK"
      },
      "execution_count": 5,
      "outputs": []
    },
    {
      "cell_type": "markdown",
      "source": [
        "## Carregando o conjunto de dados 💾"
      ],
      "metadata": {
        "id": "14OXtigEafZ2"
      }
    },
    {
      "cell_type": "code",
      "source": [
        "file_path = \"/content/microsoft_annual_report_2022.pdf\"\n",
        "reader = PdfReader(file_path)\n",
        "\n",
        "\n",
        "pdf_text = [p.extract_text() for p in reader.pages]\n",
        "\n",
        "# Filtrando strings vazias para que apenas retornem texto.\n",
        "\n",
        "pdf_text = [text for text in pdf_text if text]"
      ],
      "metadata": {
        "id": "O0X_n9_ASlj-"
      },
      "execution_count": 6,
      "outputs": []
    },
    {
      "cell_type": "code",
      "source": [
        "# Visualizando a quantidade de páginas do arquivo :\n",
        "\n",
        "len(pdf_text)"
      ],
      "metadata": {
        "colab": {
          "base_uri": "https://localhost:8080/"
        },
        "id": "1uFr-HGCaWpD",
        "outputId": "a8e44883-a2b8-4d20-e5bc-133b8973f50f"
      },
      "execution_count": 7,
      "outputs": [
        {
          "output_type": "execute_result",
          "data": {
            "text/plain": [
              "92"
            ]
          },
          "metadata": {},
          "execution_count": 7
        }
      ]
    },
    {
      "cell_type": "code",
      "source": [
        "# Visualizando um trecho do texto recuperado :\n",
        "\n",
        "pdf_text[1]"
      ],
      "metadata": {
        "colab": {
          "base_uri": "https://localhost:8080/",
          "height": 123
        },
        "id": "FI9o9N8eaqrP",
        "outputId": "5451e65a-5cd1-4f53-d8ed-8b946dae1878"
      },
      "execution_count": 8,
      "outputs": [
        {
          "output_type": "execute_result",
          "data": {
            "text/plain": [
              "'1 Dear shareholders, colleagues, customers, and partners:  \\nWe are living through a period of historic economic, societal, and geopolitical change. The world in 2022 looks nothing like \\nthe world in 2019. As I write this, inflation is at a 40 -year high, supply chains are stretched, and the war in Ukraine is \\nongoing. At the same time, we are entering a technological era with the potential to power awesome advancements \\nacross every sector of our economy and society. As the world’s largest software company, this places us at a historic \\nintersection of opportunity and responsibility to the world around us.  \\nOur mission to empower every person and every organization on the planet to achieve more has never been more \\nurgent or more necessary. For all the uncertainty in the world, one thing is clear: People and organizations in every \\nindustry are increasingly looking to digital technology to overcome today’s challenges and emerge stronger. And no \\ncompany is better positioned to help them than Microsoft.  \\nEvery day this past fiscal year I have had the privilege to witness our customers use our platforms and tools to connect \\nwhat technology can do with what the world needs  it to do.  \\nHere are just a few examples:  \\n• Ferrovial, which builds and manages some of the world’s busiest airports and highways, is using our cloud \\ninfrastructure to build safer roads as it prepares for a future of autonomous transportation.  \\n• Peace Parks Foundation, a nonprofit helping protect natural ecosystems in Southern Africa, is using Microsoft \\nDynamics 365 and Power BI to secure essential funding, as well as our Azure AI and IoT solutions to help \\nrangers scale their park maintenance and wildlife crime prevention work.  \\n• One of the world’s largest robotics companies, Kawasaki Heavy Industries, is using the breadth of our tools —\\nfrom Azure IoT and HoloLens —to create an industrial metaverse solution that brings its distributed workforce \\ntogether with its network of connected equipment to improve productivity and keep employees safe.  \\n• Globo, the biggest media and TV company in Brazil, is using Power Platform to empower its employees to \\nbuild their own solutions for everything from booking sets to setting schedules.  \\n• And Ørsted, which produces a quarter of the world’s wind energy, is using the Microsoft Intelligent Data \\nPlatform to turn data from its offshore turbines into insights for predictive maintenance.  \\nAmid this dynamic environment, we delivered record results in fiscal year 2022: We reported $198  billion in revenue and \\n$83 billion in operating income. And the Microsoft Cloud surpassed $100  billion in annualized revenue for the first time.  \\nOUR RESPONSIBILITY  \\nAs a corporation, our purpose and actions must be aligned with addressing the world’s problems, not creating new ones. \\nAt our very core, we need to deliver innovation that helps drive broad economic growth. We, as a company, will do well \\nwhen the world around us does well.  \\nThat’s what I believe will lead to widespread human progress and ultimately improve the lives of everyone. There is no \\nmore powerful input than digital technology to drive the world’s economic output. This is the core thesis for our being as a \\ncompany, but it’s not enough. As we drive global economic growth, we must also commit to creating a more inclusive, \\nequitable, sustainable, and trusted future.  \\nSupport inclusive economic growth  \\nWe must ensure the growth we drive reaches every person, organization, community, and country. This starts with \\nincreasing access to digital skills. This year alone, more than 23  million people accessed digital skills training as part of \\nour global skills initiative.  '"
            ],
            "application/vnd.google.colaboratory.intrinsic+json": {
              "type": "string"
            }
          },
          "metadata": {},
          "execution_count": 8
        }
      ]
    },
    {
      "cell_type": "markdown",
      "source": [
        "## Dividindo o texto\n",
        "\n",
        "Antes do texto passar pelo processo de embedding e ser enviado a um banco de dados vetorial (vector db), faz-se necessário que o esse seja dividido em menores partes, buscando a otimização durante o processo de recuperação da informação armazenada com base na consulta do usuário.\n",
        "\n",
        "Desse modo, essa etapa perpassa duas etapas de divisão, a primeira realizada por meio de um divisor por caractere recursivo, que irá realizar a segmentação contabilizando o arquivo como um todo, e a segunda, que irá realizar uma divisão por tokens, como forma de criar porções semânticamente relevantes.\n",
        "\n",
        "Para saber mais : https://medium.com/@hadiazouni/text-splitting-chunking-for-rag-applications-7ccbb6dcc9f9\n",
        "\n"
      ],
      "metadata": {
        "id": "qvzWkmjxa7HR"
      }
    },
    {
      "cell_type": "code",
      "source": [
        "# Divisão por caractere\n",
        "\n",
        "recursive_splitter = RecursiveCharacterTextSplitter(\n",
        "    chunk_size = 2000,\n",
        "    chunk_overlap = 150,\n",
        "    length_function = len,\n",
        "    separators=['\\n\\n', '\\n', '.', ' ', '']\n",
        ")\n",
        "\n",
        "text_splitted_rc = recursive_splitter.split_text('\\n\\n'.join(pdf_text))\n"
      ],
      "metadata": {
        "id": "6umBAfxMa1PO"
      },
      "execution_count": 9,
      "outputs": []
    },
    {
      "cell_type": "code",
      "source": [
        "print(f'Quantidade de partes geradas após a primeira divisão : {len(text_splitted_rc)}')\n"
      ],
      "metadata": {
        "id": "kXRC_G6BbElg",
        "colab": {
          "base_uri": "https://localhost:8080/"
        },
        "outputId": "5d39457c-dc52-4199-bf63-df7127b91357"
      },
      "execution_count": 10,
      "outputs": [
        {
          "output_type": "stream",
          "name": "stdout",
          "text": [
            "Quantidade de partes geradas após a primeira divisão : 199\n"
          ]
        }
      ]
    },
    {
      "cell_type": "code",
      "source": [
        "# Segunda divisão por tokens.\n",
        "\n",
        "token_splitter = SentenceTransformersTokenTextSplitter(\n",
        "    tokens_per_chunk=256,\n",
        "    chunk_overlap=0\n",
        ")"
      ],
      "metadata": {
        "id": "VLp5CMOZEEm8"
      },
      "execution_count": 11,
      "outputs": []
    },
    {
      "cell_type": "code",
      "source": [
        "token_split_text = []\n",
        "\n",
        "for text in text_splitted_rc:\n",
        "\n",
        "  token_split_text += token_splitter.split_text(text)"
      ],
      "metadata": {
        "id": "fRs_xc4cEK8E"
      },
      "execution_count": 12,
      "outputs": []
    },
    {
      "cell_type": "code",
      "source": [
        "print(f'Quantidade de partes geradas após a segunda divisão : {len(token_split_text)}')\n"
      ],
      "metadata": {
        "colab": {
          "base_uri": "https://localhost:8080/"
        },
        "id": "4xRkDWP5EQyL",
        "outputId": "e7dcf3e2-1409-478c-9bfa-cf0ee85206d5"
      },
      "execution_count": 13,
      "outputs": [
        {
          "output_type": "stream",
          "name": "stdout",
          "text": [
            "Quantidade de partes geradas após a segunda divisão : 337\n"
          ]
        }
      ]
    },
    {
      "cell_type": "markdown",
      "source": [
        "## Instanciando o modelo de embedding\n",
        "\n",
        "O modelo de embedding se refere ao algoritmo que transforma elementos de linguagem natural em uma representação vetorial. A sua importância reside no fato de que apenas desse modo consegue-se armazenar dados em um espaço vetorial, como um vector db."
      ],
      "metadata": {
        "id": "EEe5uIpdEYcN"
      }
    },
    {
      "cell_type": "code",
      "source": [
        "# Dados transformados de linguagem natural para uma representação vetorial,\n",
        "# por meio de embedding habilita que sejam que esses banco de dados vetorial\n",
        "# para serem consultados posteriormente.\n",
        "\n",
        "embedding_function = SentenceTransformerEmbeddingFunction()"
      ],
      "metadata": {
        "id": "Aqcdr6mbEUnb"
      },
      "execution_count": 14,
      "outputs": []
    },
    {
      "cell_type": "code",
      "source": [
        "# Criando o banco de dados vetorial. O banco de dados escolhido\n",
        "# é o Chroma, um framework open source que habilita a criação\n",
        "# desses bancos para uso.\n",
        "\n",
        "# Criando o objeto chroma_client, que me permitirá interagir com o ChromaDB.\n",
        "\n",
        "chroma_client = chromadb.Client()\n",
        "\n",
        "# Criando o banco de dados vetorial. Para isso, define-se seu nome e o modelo\n",
        "# de embedding de uso.\n",
        "\n",
        "chroma_db = chroma_client.create_collection(name = \"microsoft_anual_report\",\n",
        "                                            embedding_function = embedding_function)\n",
        ""
      ],
      "metadata": {
        "id": "N_b1reomEfRk"
      },
      "execution_count": 15,
      "outputs": []
    },
    {
      "cell_type": "code",
      "source": [
        "# Gerando uma lista de identificação para cada porção\n",
        "# presente no meu banco de dados vetorial.\n",
        "\n",
        "ids = [str(i) for i in range(len(token_split_text))]\n"
      ],
      "metadata": {
        "id": "GAKOzGguEonm"
      },
      "execution_count": 16,
      "outputs": []
    },
    {
      "cell_type": "code",
      "source": [
        "# Adicionando os documentos ao banco de dados vetorial\n",
        "# junto de cada identificação.\n",
        "\n",
        "chroma_db.add(ids=ids, documents=token_split_text)\n",
        ""
      ],
      "metadata": {
        "id": "heFk_fHMExuN"
      },
      "execution_count": 17,
      "outputs": []
    },
    {
      "cell_type": "code",
      "source": [
        "\n",
        "# Verificando a quantidade de itens no banco de dados vetorial.\n",
        "\n",
        "chroma_db.count()"
      ],
      "metadata": {
        "colab": {
          "base_uri": "https://localhost:8080/"
        },
        "id": "yLVXqnCsE0mp",
        "outputId": "25507886-f1ac-4e7d-92c2-980ee2affcd1"
      },
      "execution_count": 18,
      "outputs": [
        {
          "output_type": "execute_result",
          "data": {
            "text/plain": [
              "337"
            ]
          },
          "metadata": {},
          "execution_count": 18
        }
      ]
    },
    {
      "cell_type": "markdown",
      "source": [
        "##Realizando a consulta da informação\n",
        "\n",
        "Nessa etapa irei demonstrar uma abordagem de consulta do tipo padrão, sem utilizar-se de técnicas que visam a eficiência da recuperação e outra que utiliza-se dessas, que será uma combinação de expansive query com cross-encoder re-rank."
      ],
      "metadata": {
        "id": "PSfc3_DwFqo5"
      }
    },
    {
      "cell_type": "markdown",
      "source": [
        "### Busca padrão (baseline)"
      ],
      "metadata": {
        "id": "rTwccOtMF0hd"
      }
    },
    {
      "cell_type": "code",
      "source": [
        "\"\"\"\n",
        "Para visualizar o impacto que as técnicas de recuperação avançada\n",
        "representam no instante da consulta do usuário, irei criar um gráfico\n",
        "de dispersão em duas dimensões. Nele, estará dispostos os vetores\n",
        "(representados por círculos) que representam os dados armazenados, bem\n",
        "como o elemento de consulta, representado por x, e os vetores que seriam\n",
        "mais relevantes a essa, representados por um contorno circular verde nos vetores.\n",
        "\"\"\"\n",
        "\n",
        "# Para criar esse gráfico, antes precisarei realizar a transformação\n",
        "# dimensional do vector db.\n",
        "\n",
        "# Extraindo os embeddings do vector db :\n",
        "\n",
        "embeddings = chroma_db.get(include=['embeddings'])[\"embeddings\"]\n",
        "\n",
        "# Ajustando o modelo de transformação dimensional aos embeddings presentes :\n",
        "\n",
        "umap_transform = umap.UMAP(random_state=0, transform_seed=0).fit(embeddings)"
      ],
      "metadata": {
        "id": "mQOZxZ0gE21U"
      },
      "execution_count": 19,
      "outputs": []
    },
    {
      "cell_type": "code",
      "source": [
        "# Criando a função que irá realizar a representação gráfica do vector db\n",
        "\n",
        "def visualize_vector_db(embeddings, umap_transform):\n",
        "\n",
        "  # Criando um array vazio para armazenar os embeddings representados.\n",
        "\n",
        "  umap_embeddings = np.empty((len(embeddings), 2))\n",
        "\n",
        "  # Realizando a transformação dimensional dos embeddings\n",
        "\n",
        "  for i, embedding in enumerate(tqdm(embeddings)):\n",
        "\n",
        "    umap_embeddings[i] = umap_transform.transform([embedding])\n",
        "\n",
        "  return umap_embeddings"
      ],
      "metadata": {
        "id": "AX_yxtbxF51Z"
      },
      "execution_count": 20,
      "outputs": []
    },
    {
      "cell_type": "code",
      "source": [
        "\n",
        "vector_db_graph = visualize_vector_db(embeddings, umap_transform)"
      ],
      "metadata": {
        "colab": {
          "base_uri": "https://localhost:8080/"
        },
        "id": "WCApC62bGX0a",
        "outputId": "cdab3fe5-76db-45ca-fb3b-637c3c4fd565"
      },
      "execution_count": 21,
      "outputs": [
        {
          "output_type": "stream",
          "name": "stderr",
          "text": [
            "100%|██████████| 337/337 [05:54<00:00,  1.05s/it]\n"
          ]
        }
      ]
    },
    {
      "cell_type": "code",
      "source": [
        "# Para visualizar graficamente :\n",
        "\n",
        "plt.figure()\n",
        "plt.scatter(vector_db_graph[:, 0], vector_db_graph[:, 1], s = 10)\n",
        "plt.gca().set_aspect('equal', 'datalim')\n",
        "plt.title('Vector Database')\n",
        "plt.axis('off')"
      ],
      "metadata": {
        "colab": {
          "base_uri": "https://localhost:8080/",
          "height": 445
        },
        "id": "yiTSCIwDF8h9",
        "outputId": "718a35eb-6de8-4ec9-f7ce-26f34b4a7cce"
      },
      "execution_count": 22,
      "outputs": [
        {
          "output_type": "execute_result",
          "data": {
            "text/plain": [
              "(-3.7558590888977053, 7.321249675750733, 6.518512153625489, 12.525673484802246)"
            ]
          },
          "metadata": {},
          "execution_count": 22
        },
        {
          "output_type": "display_data",
          "data": {
            "text/plain": [
              "<Figure size 640x480 with 1 Axes>"
            ],
            "image/png": "[encoded data removed]"
          },
          "metadata": {}
        }
      ]
    },
    {
      "cell_type": "markdown",
      "source": [
        "### Realizando a consulta\n",
        "\n"
      ],
      "metadata": {
        "id": "OsSPLnp0Gg2e"
      }
    },
    {
      "cell_type": "code",
      "source": [
        "# Realizando a consulta e verificando a sua eficiência\n",
        "# a partir da visualização do gráfico do vector db.\n",
        "\n",
        "query = \"What they are the thoughts about AI in this article ?\"\n",
        "\n",
        "retrieve = chroma_db.query(query_texts=[query], n_results=5, include=[\"documents\", \"embeddings\"])\n",
        "\n",
        "retrieved_documents = retrieve[\"documents\"][0]"
      ],
      "metadata": {
        "id": "sR-J3YuLF-zk"
      },
      "execution_count": 23,
      "outputs": []
    },
    {
      "cell_type": "code",
      "source": [
        "# com base na consulta realizada.\n",
        "\n",
        "retrieved_documents[:2]"
      ],
      "metadata": {
        "colab": {
          "base_uri": "https://localhost:8080/"
        },
        "id": "2DHJwbQsG_8l",
        "outputId": "7459d31b-0386-4971-f9be-809c27dbab29"
      },
      "execution_count": 24,
      "outputs": [
        {
          "output_type": "execute_result",
          "data": {
            "text/plain": [
              "['4 our commitment to responsibly develop and use technologies like ai is core to who we are. we put our commitment into practice, not only within microsoft but by empowering our customers and partners to do the same and by advocating for policy change. we released our responsible ai standard, which outlines 17 goals aligned to our six ai principles and includes tools and practices to support them. and we share our open - source tools, including the new responsible ai dashboard, to help developers building ai technologies identify and mitigate issues before deployment. finally, we provide clear reporting and information on how we run our business and how we work with customers and partners, delivering the transparency that is central to trust. our annual impact summary shares more about our progress and learnings across these four commitments, and our reports hub provides detailed reports on our environmental data, our political activities, our workforce demographics, our human rights work, and more. we should all be proud of this work — and i am. but it ’ s easy to talk about what we ’ re doing well. as we look to the next year and beyond, we ’ ll continue to reflect on where the world needs us to do better. our opportunity now, let me turn to how we are positioned to capture the massive opportunities ahead',\n",
              " 'across our end - user experiences and devices, including office, windows, teams, consumer web experiences ( including search and news advertising ), and the surface line of devices. • security, compliance, identity, and management, focuses on cloud platform and application security, identity and network access, enterprise mobility, information protection, and managed services. • technology and research, focuses on our ai innovations and other forward - looking research and']"
            ]
          },
          "metadata": {},
          "execution_count": 24
        }
      ]
    },
    {
      "cell_type": "markdown",
      "source": [
        "### Visualizando a eficiência da recuperação"
      ],
      "metadata": {
        "id": "VaoY264VHFta"
      }
    },
    {
      "cell_type": "code",
      "source": [
        "query_embedding = embedding_function(query)[0]\n",
        "\n",
        "retrieved_embedding = retrieve[\"embeddings\"][0]\n",
        "\n",
        "visualize_query_embedding = visualize_vector_db([query_embedding],\n",
        "                                                umap_transform)\n",
        "\n",
        "visualize_retrieved_embedding = visualize_vector_db(retrieved_embedding,\n",
        "                                                    umap_transform)"
      ],
      "metadata": {
        "colab": {
          "base_uri": "https://localhost:8080/"
        },
        "id": "9sC5IQ97HImV",
        "outputId": "a07dadee-4253-4e48-efab-e451cb69e29d"
      },
      "execution_count": 25,
      "outputs": [
        {
          "output_type": "stream",
          "name": "stderr",
          "text": [
            "100%|██████████| 1/1 [00:00<00:00,  1.00it/s]\n",
            "100%|██████████| 5/5 [00:05<00:00,  1.17s/it]\n"
          ]
        }
      ]
    },
    {
      "cell_type": "code",
      "source": [
        "# Realizando a visualização gráfica :\n",
        "\n",
        "plt.figure()\n",
        "plt.scatter(vector_db_graph[:, 0], vector_db_graph[:, 1], s = 10, color = 'gray')\n",
        "\n",
        "plt.scatter(visualize_query_embedding[:, 0], visualize_query_embedding[:, 1],\n",
        "            s = 100, marker = 'X', color = 'r')\n",
        "\n",
        "plt.scatter(visualize_retrieved_embedding[:, 0], visualize_retrieved_embedding[:, 1],\n",
        "            s = 100, facecolors = 'none', edgecolors = 'black')\n",
        "\n",
        "plt.gca().set_aspect('equal', 'datalim')\n",
        "plt.title(f'{query}')\n",
        "plt.axis('off')"
      ],
      "metadata": {
        "colab": {
          "base_uri": "https://localhost:8080/",
          "height": 445
        },
        "id": "XZdZzTTtHTya",
        "outputId": "8e196ab3-2061-4aa1-ab3c-518114679efa"
      },
      "execution_count": 26,
      "outputs": [
        {
          "output_type": "execute_result",
          "data": {
            "text/plain": [
              "(-3.7558590888977053, 7.321249675750733, 6.518512153625489, 12.525673484802246)"
            ]
          },
          "metadata": {},
          "execution_count": 26
        },
        {
          "output_type": "display_data",
          "data": {
            "text/plain": [
              "<Figure size 640x480 with 1 Axes>"
            ],
            "image/png": "[encoded data removed]"
          },
          "metadata": {}
        }
      ]
    },
    {
      "cell_type": "markdown",
      "source": [
        "O gráfico acima busca informar como ocorre a recuperação da informação no banco de dados vetorial, utilizando-se apenas da consulta e da sua similaridade vetorial com os elementos nesse presentes.\n",
        "\n",
        "Nota-se que os dados escolhidos distam dos vetores que possuiriam maior relevância para responder a query informada. Na marcação do X, em vermelho, está os vetores selecionados, enquanto que os mais relevantes são circulados por um contorno em preto."
      ],
      "metadata": {
        "id": "fk2OMTr-HYmw"
      }
    },
    {
      "cell_type": "markdown",
      "source": [
        "## Implementando a busca com expansive query mais cross-encoder re-rank\n",
        "\n",
        "Essa implementação é seguida por duas principais etapas. A primeira configura-se na primeira recuperação dos dados, com base na consulta informada, enquanto que a segunda se define por ser uma etapa da seleção do conteúdo mais relevante dos documentos previamente selecionados.\n",
        "\n",
        "No presente cenário, estou combinando essa abordagem com a técnica conhecida como query expansive (expansão da consulta) a partir da qual busco fornecer mais contexto para a pesquisa, buscando promover uma delimitação maior do campo de busca, que somente a query poderia deixar a desejar.\n",
        "\n",
        "Para a realização da recuperação da informação utiliza-se por padrão o ângulo encontrado pelo cosseno, para avaliar a similaridade vetorial entre o elemento de consulta e os dados presentes no banco de dados vetorial. Não obstante, na segunda etapa de seleção, desempenhada pelo cross-encoder essa técnica também é utilizada, mas em conjunto de consulta e elementos a serem recuperados, realizando uma pontuação para cada qual. Aqueles que apresentam melhores pontuações são tidos como mais relevantes, enquanto os que apresentam o oposto são tidos como menos relevantes."
      ],
      "metadata": {
        "id": "zdFwXs9zHmDy"
      }
    },
    {
      "cell_type": "markdown",
      "source": [
        "## Primeira etapa : extração da informação com expasive query"
      ],
      "metadata": {
        "id": "khm4oClRHy3I"
      }
    },
    {
      "cell_type": "code",
      "source": [
        "def argument_multiple_query(query, model = llm):\n",
        "\n",
        "  template = PromptTemplate(\n",
        "      input_variables=[\"query\"],\n",
        "      template=\"\"\"\n",
        "      You are an experienced and efficient generative AI developer.\n",
        "      Suggest up to ten additional related questions to help them find the information they need, for the provided question.\n",
        "      Suggest only short questions without compound sentences.\n",
        "      Suggest a variety of questions that cover different aspects of the topic.\n",
        "      Make sure they are complete questions, and that they are related to the original question.\n",
        "      Output one question per line. Do not number the questions.\n",
        "\n",
        "      Question : {query}\n",
        "\n",
        "      Helpful Answer : \"\"\"  )\n",
        "\n",
        "  chain = LLMChain(llm=model, prompt=template)\n",
        "  response = chain.run(query=query)\n",
        "\n",
        "  return response"
      ],
      "metadata": {
        "id": "YqBVIe7pHeUZ"
      },
      "execution_count": 27,
      "outputs": []
    },
    {
      "cell_type": "code",
      "source": [
        "original_query = \"What the articles talks about artificial intelligence (AI) ?\"\n",
        "\n",
        "argumented_multiple_query_output = argument_multiple_query(original_query)"
      ],
      "metadata": {
        "id": "RlElEN9WIcTr"
      },
      "execution_count": 28,
      "outputs": []
    },
    {
      "cell_type": "code",
      "source": [
        "# Visualizando as múltiplas perguntas realizadas pelo modelo :\n",
        "\n",
        "argumented_multiple_query_output"
      ],
      "metadata": {
        "colab": {
          "base_uri": "https://localhost:8080/",
          "height": 70
        },
        "id": "1pyH5bQYIpxK",
        "outputId": "64b0aecd-8a0b-44f4-b6ec-c4d11e882856"
      },
      "execution_count": 29,
      "outputs": [
        {
          "output_type": "execute_result",
          "data": {
            "text/plain": [
              "'What is the main focus of the AI articles?\\nWhat types of AI are discussed?\\nWhat are the benefits of AI according to the articles?\\nWhat are the risks or challenges of AI?\\nAre there any ethical concerns raised about AI?\\nHow is AI being used in specific industries?\\nWhat is the future of AI?\\nWho are the key players in the field of AI?\\nWhat are some real-world examples of AI applications?\\nWhere can I find more information about AI? \\n'"
            ],
            "application/vnd.google.colaboratory.intrinsic+json": {
              "type": "string"
            }
          },
          "metadata": {},
          "execution_count": 29
        }
      ]
    },
    {
      "cell_type": "code",
      "source": [
        "# Realizando a pesquisa no banco de dados vetorial, junto\n",
        "# da expansive query, combinando a consulta original com as\n",
        "# perguntas geradas pelo modelo de LLM.\n",
        "\n",
        "queries = f'{original_query}  {argumented_multiple_query_output}'\n",
        "results = chroma_db.query(query_texts=queries, n_results=10, include=['documents', 'embeddings'])\n",
        "\n",
        "retrieved_documents = results['documents'][0]\n",
        ""
      ],
      "metadata": {
        "id": "JI6Z8zImIz79"
      },
      "execution_count": 30,
      "outputs": []
    },
    {
      "cell_type": "code",
      "source": [
        "# Visualizando alguns dos trechos recuprados.\n",
        "\n",
        "retrieved_documents[:2]"
      ],
      "metadata": {
        "colab": {
          "base_uri": "https://localhost:8080/"
        },
        "id": "XLc512lgJYo2",
        "outputId": "6b8ad04f-6128-4377-b0f2-867e80efccd4"
      },
      "execution_count": 31,
      "outputs": [
        {
          "output_type": "execute_result",
          "data": {
            "text/plain": [
              "['to customers. we are building a distributed computing fabric – across cloud and the edge – to help every organization build, run, and manage mission - critical workloads anywhere. in the next phase of innovation, artificial intelligence ( “ ai ” ) capabilities are rapidly advancing, fueled by data and knowledge of the world. we are enabling metaverse experiences at all layers of our stack, so customers can more effectively model, automate, simulate, and predict changes within their industrial',\n",
              " 'across our end - user experiences and devices, including office, windows, teams, consumer web experiences ( including search and news advertising ), and the surface line of devices. • security, compliance, identity, and management, focuses on cloud platform and application security, identity and network access, enterprise mobility, information protection, and managed services. • technology and research, focuses on our ai innovations and other forward - looking research and']"
            ]
          },
          "metadata": {},
          "execution_count": 31
        }
      ]
    },
    {
      "cell_type": "code",
      "source": [
        "# Visualiando a melhora no campo de busca com a utilização\n",
        "# da expansion query :\n",
        "\n",
        "retrieved_embedding = results['embeddings'][0]\n",
        "original_query_embedding = embedding_function([original_query])\n",
        "argument_query_embedding = embedding_function([argumented_multiple_query_output])\n",
        "\n",
        "visualize_original_query_embedding = visualize_vector_db(original_query_embedding, umap_transform)\n",
        "visualize_argument_query_embedding = visualize_vector_db(argument_query_embedding, umap_transform)\n",
        "visualize_retrieved_embedding = visualize_vector_db(retrieved_embedding, umap_transform)\n",
        ""
      ],
      "metadata": {
        "colab": {
          "base_uri": "https://localhost:8080/"
        },
        "id": "0i3wmyAEJmBU",
        "outputId": "2fe693ff-246c-4c7c-9ef4-afc132f90cc4"
      },
      "execution_count": 32,
      "outputs": [
        {
          "output_type": "stream",
          "name": "stderr",
          "text": [
            "100%|██████████| 1/1 [00:00<00:00,  1.13it/s]\n",
            "100%|██████████| 1/1 [00:00<00:00,  1.15it/s]\n",
            "100%|██████████| 10/10 [00:11<00:00,  1.10s/it]\n"
          ]
        }
      ]
    },
    {
      "cell_type": "code",
      "source": [
        "# Visualizando o campo de busca gerado com a expansive query.\n",
        "\n",
        "plt.figure()\n",
        "\n",
        "plt.scatter(vector_db_graph[:, 0], vector_db_graph[:, 1], s = 10, color = 'gray')\n",
        "\n",
        "plt.scatter(visualize_original_query_embedding[:, 0], visualize_original_query_embedding[:, 1],\n",
        "            s = 100, marker = 'X', color = 'red')\n",
        "\n",
        "plt.scatter(visualize_argument_query_embedding[:, 0], visualize_argument_query_embedding[:, 1],\n",
        "            s = 100, marker = 'X', color = 'black')\n",
        "\n",
        "plt.scatter(visualize_retrieved_embedding[:, 0], visualize_retrieved_embedding[:, 1],\n",
        "            s = 100, facecolors = 'none', edgecolors = 'black')\n",
        "\n",
        "plt.gca().set_aspect('equal', 'datalim')\n",
        "plt.title(f'{original_query}')\n",
        "plt.axis('off')"
      ],
      "metadata": {
        "colab": {
          "base_uri": "https://localhost:8080/",
          "height": 445
        },
        "id": "_prq8U8lJ2jN",
        "outputId": "d40d5bd5-85b2-41da-eb57-43043aee8a0b"
      },
      "execution_count": 33,
      "outputs": [
        {
          "output_type": "execute_result",
          "data": {
            "text/plain": [
              "(-3.7558590888977053, 7.321249675750733, 6.518512153625489, 12.525673484802246)"
            ]
          },
          "metadata": {},
          "execution_count": 33
        },
        {
          "output_type": "display_data",
          "data": {
            "text/plain": [
              "<Figure size 640x480 with 1 Axes>"
            ],
            "image/png": "[encoded data removed]"
          },
          "metadata": {}
        }
      ]
    },
    {
      "cell_type": "markdown",
      "source": [
        "A partir da técnica de expansive query utilizada, nota-se que a recuperação dos dados se tornou mais próxima dos dados mais relevantes, em comparação com a recuperação de baseline, na qual essa distava muito dos dados."
      ],
      "metadata": {
        "id": "lbGmeDtrOLgw"
      }
    },
    {
      "cell_type": "markdown",
      "source": [
        "## Segunda etapa da extração : crossencoder re-rank"
      ],
      "metadata": {
        "id": "eGwjHwBZOln2"
      }
    },
    {
      "cell_type": "code",
      "source": [
        "# Instanciando o modelo de cross-encoder para a realização\n",
        "# da segunda etapa de seleção dos documentos mais relevantes\n",
        "# à consulta do usuário.\n",
        "\n",
        "cross_encoder = CrossEncoder('cross-encoder/ms-marco-MiniLM-L-6-v2')"
      ],
      "metadata": {
        "id": "XICL1JWhKFhL"
      },
      "execution_count": 34,
      "outputs": []
    },
    {
      "cell_type": "code",
      "source": [
        "# Formando o par consulta e documentos.\n",
        "\n",
        "pairs = [[query, doc] for doc in retrieved_documents]\n",
        "\n",
        "# Obtendo a pontuação dos documentos, com base na consulta.\n",
        "# Aqueles que apresentam a melhor pontuação são aqueles que\n",
        "# são tidos como mais relevantes em responder a consulta.\n",
        "\n",
        "scores = cross_encoder.predict(pairs)"
      ],
      "metadata": {
        "id": "xpVfbEVzUMG1"
      },
      "execution_count": 35,
      "outputs": []
    },
    {
      "cell_type": "code",
      "source": [
        "# Etapa 4: Ordenando os documentos com base nos scores obtidos\n",
        "\n",
        "documents_with_scores = list(zip(retrieved_documents, scores))"
      ],
      "metadata": {
        "id": "8bIIm0vmUjyF"
      },
      "execution_count": 36,
      "outputs": []
    },
    {
      "cell_type": "code",
      "source": [
        "# Visualizando alguns dos documentos extraídos\n",
        "# na primeira etapa com a sua respectiva pontuação.\n",
        "\n",
        "documents_with_scores[:2]"
      ],
      "metadata": {
        "colab": {
          "base_uri": "https://localhost:8080/"
        },
        "id": "HEs_IfNAUm0E",
        "outputId": "d9e0bda9-ee02-4b85-ed47-71e29ed312d6"
      },
      "execution_count": 37,
      "outputs": [
        {
          "output_type": "execute_result",
          "data": {
            "text/plain": [
              "[('to customers. we are building a distributed computing fabric – across cloud and the edge – to help every organization build, run, and manage mission - critical workloads anywhere. in the next phase of innovation, artificial intelligence ( “ ai ” ) capabilities are rapidly advancing, fueled by data and knowledge of the world. we are enabling metaverse experiences at all layers of our stack, so customers can more effectively model, automate, simulate, and predict changes within their industrial',\n",
              "  -3.3833141),\n",
              " ('across our end - user experiences and devices, including office, windows, teams, consumer web experiences ( including search and news advertising ), and the surface line of devices. • security, compliance, identity, and management, focuses on cloud platform and application security, identity and network access, enterprise mobility, information protection, and managed services. • technology and research, focuses on our ai innovations and other forward - looking research and',\n",
              "  -8.09021)]"
            ]
          },
          "metadata": {},
          "execution_count": 37
        }
      ]
    },
    {
      "cell_type": "code",
      "source": [
        "# Reordenando os documentos, com base em sua pontuação.\n",
        "# Aqueles que apresentam maior pontuação são tidos como mais relevantes.\n",
        "\n",
        "ranked_documents = sorted(documents_with_scores, key=lambda x: x[1], reverse=True)"
      ],
      "metadata": {
        "id": "0ve-cff6Uqv7"
      },
      "execution_count": 38,
      "outputs": []
    },
    {
      "cell_type": "code",
      "source": [
        "# Visualizando os documentos reordenados :\n",
        "\n",
        "ranked_documents"
      ],
      "metadata": {
        "colab": {
          "base_uri": "https://localhost:8080/"
        },
        "id": "QFGoQR_MU9L9",
        "outputId": "a612d2e4-55fe-4c85-fcd1-2aecb2bf7be2"
      },
      "execution_count": 39,
      "outputs": [
        {
          "output_type": "execute_result",
          "data": {
            "text/plain": [
              "[('to customers. we are building a distributed computing fabric – across cloud and the edge – to help every organization build, run, and manage mission - critical workloads anywhere. in the next phase of innovation, artificial intelligence ( “ ai ” ) capabilities are rapidly advancing, fueled by data and knowledge of the world. we are enabling metaverse experiences at all layers of our stack, so customers can more effectively model, automate, simulate, and predict changes within their industrial',\n",
              "  -3.3833141),\n",
              " ('4 our commitment to responsibly develop and use technologies like ai is core to who we are. we put our commitment into practice, not only within microsoft but by empowering our customers and partners to do the same and by advocating for policy change. we released our responsible ai standard, which outlines 17 goals aligned to our six ai principles and includes tools and practices to support them. and we share our open - source tools, including the new responsible ai dashboard, to help developers building ai technologies identify and mitigate issues before deployment. finally, we provide clear reporting and information on how we run our business and how we work with customers and partners, delivering the transparency that is central to trust. our annual impact summary shares more about our progress and learnings across these four commitments, and our reports hub provides detailed reports on our environmental data, our political activities, our workforce demographics, our human rights work, and more. we should all be proud of this work — and i am. but it ’ s easy to talk about what we ’ re doing well. as we look to the next year and beyond, we ’ ll continue to reflect on where the world needs us to do better. our opportunity now, let me turn to how we are positioned to capture the massive opportunities ahead',\n",
              "  -4.97231),\n",
              " ('• technology and research, focuses on our ai innovations and other forward - looking research and development efforts spanning infrastructure, services, and applications. • linkedin, focuses on our services that transform the way customers hire, market, sell, and learn.',\n",
              "  -5.141904),\n",
              " ('##ance is a cloud and artificial intelligence ( “ ai ” ) software provider with healthcare and enterprise ai experience, and the acquisition will build on our industry - specific cloud offerings. the financial results of nuance have been included in our consolidated financial statements since the date of the acquisition. nuance is reported as part of our intelligent cloud segment. refer to note 8 – business combinations of the notes to financial statements in our fiscal year 2022 form 10 - k for further discussion.',\n",
              "  -6.1633797),\n",
              " ('others. this year, we responded to six humanitarian emergencies in five countries through donations, technology, services, and employee giving. as of july 2022, we ’ ve committed $ 257 million in financial and technology assistance to the global response to the war in ukraine, including support for government, businesses, nonprofits, and humanitarian assistance for refugees. and, through our ai for humanitarian action initiative, we ’ re helping organizations harness the power of ai to improve their disaster preparedness, response, and recovery. finally, we continued working toward our five - year commitment to bridge the disability divide for the more than 1 billion people around the world with disabilities, seeking to expand accessibility in technology, the workforce, and',\n",
              "  -6.8756933),\n",
              " ('data and ai from best - in - class databases and analytics to data governance, we have the most comprehensive data stack to help every organization turn its data into predictive and analytical power. with our new microsoft intelligent data',\n",
              "  -7.650587),\n",
              " ('healthcare and enterprise ai experience, and the acquisition will build on our industry - specific cloud offerings. the financial results of nuance have been included in our consolidated financial statements since the date of the acquisition. nuance is reported as part of our intelligent cloud segment. the purchase price allocation as of the date of acquisition was based on a preliminary valuation and is subject to revision as more detailed analyses are completed and additional information about the fair value of assets acquired and liabilities assumed becomes available.',\n",
              "  -7.908415),\n",
              " ('across our end - user experiences and devices, including office, windows, teams, consumer web experiences ( including search and news advertising ), and the surface line of devices. • security, compliance, identity, and management, focuses on cloud platform and application security, identity and network access, enterprise mobility, information protection, and managed services. • technology and research, focuses on our ai innovations and other forward - looking research and',\n",
              "  -8.09021),\n",
              " ('- to - end capabilities to protect people and organizations. in march 2022, we completed our acquisition of nuance communications, inc. ( “ nuance ” ). together, microsoft and nuance will enable organizations across industries to accelerate their business goals with security - focused, cloud - based solutions infused with powerful, vertically optimized ai. we are accelerating our development of mixed reality solutions with new azure services and devices. microsoft mesh',\n",
              "  -8.537907),\n",
              " ('latency services closer to end users. as the digital and physical worlds come together, we ’ re also leading in the industrial metaverse. from smart factories, to smart buildings, to smart cities, we ’ re helping organizations use azure iot, azure digital twins, and microsoft mesh to digitize people, places, and things, in order to visualize, simulate, and analyze any business process. data and ai from best - in - class databases and analytics to data governance, we have the most comprehensive data stack to help',\n",
              "  -8.655568)]"
            ]
          },
          "metadata": {},
          "execution_count": 39
        }
      ]
    },
    {
      "cell_type": "code",
      "source": [
        "# Extraindo os 5 documentos mais relevantes, com base na consulta do usuário,\n",
        "# com base na reordenação anteriormente realizada.\n",
        "\n",
        "top5_re_ranked_documents = [doc for doc, score in ranked_documents[:5]]"
      ],
      "metadata": {
        "id": "YBTPuVhIVCLt"
      },
      "execution_count": 40,
      "outputs": []
    },
    {
      "cell_type": "code",
      "source": [
        "# Visualizando os documentos melhor rankeados.\n",
        "\n",
        "top5_re_ranked_documents[:5]"
      ],
      "metadata": {
        "colab": {
          "base_uri": "https://localhost:8080/"
        },
        "id": "duEQH3KtVKrt",
        "outputId": "be579f4c-c9c6-44d4-da57-fa590503b824"
      },
      "execution_count": 47,
      "outputs": [
        {
          "output_type": "execute_result",
          "data": {
            "text/plain": [
              "['to customers. we are building a distributed computing fabric – across cloud and the edge – to help every organization build, run, and manage mission - critical workloads anywhere. in the next phase of innovation, artificial intelligence ( “ ai ” ) capabilities are rapidly advancing, fueled by data and knowledge of the world. we are enabling metaverse experiences at all layers of our stack, so customers can more effectively model, automate, simulate, and predict changes within their industrial',\n",
              " '4 our commitment to responsibly develop and use technologies like ai is core to who we are. we put our commitment into practice, not only within microsoft but by empowering our customers and partners to do the same and by advocating for policy change. we released our responsible ai standard, which outlines 17 goals aligned to our six ai principles and includes tools and practices to support them. and we share our open - source tools, including the new responsible ai dashboard, to help developers building ai technologies identify and mitigate issues before deployment. finally, we provide clear reporting and information on how we run our business and how we work with customers and partners, delivering the transparency that is central to trust. our annual impact summary shares more about our progress and learnings across these four commitments, and our reports hub provides detailed reports on our environmental data, our political activities, our workforce demographics, our human rights work, and more. we should all be proud of this work — and i am. but it ’ s easy to talk about what we ’ re doing well. as we look to the next year and beyond, we ’ ll continue to reflect on where the world needs us to do better. our opportunity now, let me turn to how we are positioned to capture the massive opportunities ahead',\n",
              " '• technology and research, focuses on our ai innovations and other forward - looking research and development efforts spanning infrastructure, services, and applications. • linkedin, focuses on our services that transform the way customers hire, market, sell, and learn.',\n",
              " '##ance is a cloud and artificial intelligence ( “ ai ” ) software provider with healthcare and enterprise ai experience, and the acquisition will build on our industry - specific cloud offerings. the financial results of nuance have been included in our consolidated financial statements since the date of the acquisition. nuance is reported as part of our intelligent cloud segment. refer to note 8 – business combinations of the notes to financial statements in our fiscal year 2022 form 10 - k for further discussion.',\n",
              " 'others. this year, we responded to six humanitarian emergencies in five countries through donations, technology, services, and employee giving. as of july 2022, we ’ ve committed $ 257 million in financial and technology assistance to the global response to the war in ukraine, including support for government, businesses, nonprofits, and humanitarian assistance for refugees. and, through our ai for humanitarian action initiative, we ’ re helping organizations harness the power of ai to improve their disaster preparedness, response, and recovery. finally, we continued working toward our five - year commitment to bridge the disability divide for the more than 1 billion people around the world with disabilities, seeking to expand accessibility in technology, the workforce, and']"
            ]
          },
          "metadata": {},
          "execution_count": 47
        }
      ]
    },
    {
      "cell_type": "markdown",
      "source": [
        "## Realizando a técnica RAG com os melhores documentos selecionados"
      ],
      "metadata": {
        "id": "5U1jTPA0WCap"
      }
    },
    {
      "cell_type": "code",
      "source": [
        "def rag(query, retrieved_documents, model = llm):\n",
        "\n",
        "  information = '\\n\\n'.join(retrieved_documents)\n",
        "\n",
        "  prompt_template = PromptTemplate(\n",
        "      input_variables = [\"query\", \"information\"],\n",
        "      template = (\"\"\"\n",
        "      You are an experienced and efficient generative AI developer.\n",
        "      You need to respond in a clear and informative way to the user's query\n",
        "      on the topic of AI agents. You will be presented with the user query\n",
        "      and the relevant parts of an article that talks about the topic.\n",
        "      Answer the user's question using only the information presented to you.\n",
        "\n",
        "      Question : {query}\n",
        "      Information : {information}\n",
        "\n",
        "      Helpful Answer :\n",
        "      \"\"\")\n",
        "  )\n",
        "\n",
        "  chain = LLMChain(llm = llm, prompt = prompt_template)\n",
        "\n",
        "  response = chain.run(query = query,\n",
        "                       information = information)\n",
        "\n",
        "  return response"
      ],
      "metadata": {
        "id": "amtckjRFVU0O"
      },
      "execution_count": 49,
      "outputs": []
    },
    {
      "cell_type": "code",
      "source": [
        "bot = rag(original_query, top5_re_ranked_documents)"
      ],
      "metadata": {
        "id": "1c3H47YIWddi"
      },
      "execution_count": 50,
      "outputs": []
    },
    {
      "cell_type": "code",
      "source": [
        "print(bot)"
      ],
      "metadata": {
        "colab": {
          "base_uri": "https://localhost:8080/"
        },
        "id": "cdEQBsqyWgCd",
        "outputId": "8bc8f5d3-f53c-469a-92e0-ff1a9a019994"
      },
      "execution_count": 51,
      "outputs": [
        {
          "output_type": "stream",
          "name": "stdout",
          "text": [
            "This article discusses artificial intelligence (AI) in the context of its rapid advancement and its role in the next phase of technological innovation. \n",
            "\n",
            "Here are some key points from the article:\n",
            "\n",
            "* **AI's growing importance:** AI is developing rapidly, driven by data and knowledge, and is becoming crucial for businesses to model, automate, simulate, and predict changes.\n",
            "* **Microsoft's role in AI:** Microsoft is committed to responsibly developing and using AI, providing tools and resources for its ethical implementation. They are also investing in AI research and development, particularly in areas like infrastructure, services, and applications.\n",
            "* **AI in specific sectors:** The article highlights the use of AI in healthcare through the acquisition of Nuance, an AI software provider. This acquisition aims to enhance Microsoft's industry-specific cloud offerings. \n",
            "\n",
            "The article emphasizes the significance of AI across various applications and Microsoft's dedication to its responsible and ethical development. \n",
            "\n"
          ]
        }
      ]
    },
    {
      "cell_type": "code",
      "source": [],
      "metadata": {
        "id": "AgravrHNWh__"
      },
      "execution_count": 44,
      "outputs": []
    }
  ]
}