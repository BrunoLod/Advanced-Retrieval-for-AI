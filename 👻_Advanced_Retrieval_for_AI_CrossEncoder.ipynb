{
  "nbformat": 4,
  "nbformat_minor": 0,
  "metadata": {
    "colab": {
      "provenance": []
    },
    "kernelspec": {
      "name": "python3",
      "display_name": "Python 3"
    },
    "language_info": {
      "name": "python"
    }
  },
  "cells": [
    {
      "cell_type": "markdown",
      "source": [
        "# Apresentação ✒️\n",
        "\n",
        "Notebook destinado ao estudo de advanced retrieval for AI (recuperação avançada para IA). Circunscreve-se no contexto da técnica conhecida como Retrieval Argument Generation (RAG), que consiste na recuperação de informação a partir de um local de seu armazenamento, por meio da qual a LLM de uso pode utilizar de insumo para geração de respostas a partir de uma consulta do usuário.\n",
        "\n",
        "Objetiva-se por meio dela prover um cenário no qual não dependa-se do treinamento prévio do modelo, a fim de oferecer respostas precisas ao cenário de uso e nem a necessidade de realizar um ajuste fino (fine tuning), bastando informar a ele o elemento recuperado por meio da consulta, a partir do qual o torna habilitado a responder às consultas do usuário de forma mais precisa.\n",
        "\n",
        "Em virtude disso, configura-se numa abordagem relevante para aplicações com IAs generativas, imersas a um contexto de busca semântica e chatbots, que habilita a IA a responder o usuário de forma mais aderente ao contexto de aplicação no qual está inserida.\n",
        "\n",
        "Nesse sentido, o estudo da recuperação avançada se delimita na compreensão de técnicas que possam auxiliar a eficiência da extração da informação contida no armazenamento. A sua importância se dá, além desse aspecto, no fato de que a sua implementação padrão por meio da similaridade vetorial nem sempre ser o suficiente para prover retornos relevantes à consulta do usuário, por mais que seja semelhante da perspectiva vetorial.\n",
        "\n",
        "Desse modo, no presente notebook, estudará a implementação da técnica conhecida como cross-encoder re-rank, com a combinação da abordagem conhecida como expansive query (consulta expandida).\n",
        "\n",
        "O notebook está dividido da seguinte forma :\n",
        "\n",
        "- importação das bibliotecas\n",
        "\n",
        "- definição da variável de ambiente e modelo de LLM utilizado\n",
        "\n",
        "- carregamento do arquivo utilizado\n",
        "\n",
        "- divisão do texto em duas etapas\n",
        "\n",
        "- criação do banco de dados vetorial\n",
        "\n",
        "- adição da divisão do texto no banco de dados vetorial\n",
        "\n",
        "- realização da primeira consulta sem nenhuma técnia associada - baseline\n",
        "\n",
        "- visualização da eficiência da primeira consulta\n",
        "\n",
        "- realização da consulta com a técnica de expansive query\n",
        "\n",
        "- visualização da sua eficiência\n",
        "\n",
        "- combinação com o cross-encoder (2° etapa de seleção)\n",
        "\n",
        "- reordenação dos documentos mais relevantes\n",
        "\n",
        "- implementação da técnica conhecida como RAG a partir dos documentos mais relevantes.\n",
        "\n"
      ],
      "metadata": {
        "id": "TCoFruudMN2F"
      }
    },
    {
      "cell_type": "markdown",
      "source": [
        "## Biblioteca 📚"
      ],
      "metadata": {
        "id": "ncrBrmn7pWE5"
      }
    },
    {
      "cell_type": "code",
      "execution_count": 2,
      "metadata": {
        "colab": {
          "base_uri": "https://localhost:8080/"
        },
        "id": "klzFvp_w_6XH",
        "outputId": "c3632049-39ad-4f5e-ff06-95557cf0c37d"
      },
      "outputs": [
        {
          "output_type": "stream",
          "name": "stdout",
          "text": [
            "\u001b[2K     \u001b[90m━━━━━━━━━━━━━━━━━━━━━━━━━━━━━━━━━━━━━━━━\u001b[0m \u001b[32m975.5/975.5 kB\u001b[0m \u001b[31m8.9 MB/s\u001b[0m eta \u001b[36m0:00:00\u001b[0m\n",
            "\u001b[2K     \u001b[90m━━━━━━━━━━━━━━━━━━━━━━━━━━━━━━━━━━━━━━━━\u001b[0m \u001b[32m2.2/2.2 MB\u001b[0m \u001b[31m54.3 MB/s\u001b[0m eta \u001b[36m0:00:00\u001b[0m\n",
            "\u001b[2K     \u001b[90m━━━━━━━━━━━━━━━━━━━━━━━━━━━━━━━━━━━━━━━━\u001b[0m \u001b[32m559.5/559.5 kB\u001b[0m \u001b[31m41.1 MB/s\u001b[0m eta \u001b[36m0:00:00\u001b[0m\n",
            "\u001b[2K     \u001b[90m━━━━━━━━━━━━━━━━━━━━━━━━━━━━━━━━━━━━━━━━\u001b[0m \u001b[32m337.4/337.4 kB\u001b[0m \u001b[31m31.7 MB/s\u001b[0m eta \u001b[36m0:00:00\u001b[0m\n",
            "\u001b[2K     \u001b[90m━━━━━━━━━━━━━━━━━━━━━━━━━━━━━━━━━━━━━━━━\u001b[0m \u001b[32m127.5/127.5 kB\u001b[0m \u001b[31m10.8 MB/s\u001b[0m eta \u001b[36m0:00:00\u001b[0m\n",
            "\u001b[2K     \u001b[90m━━━━━━━━━━━━━━━━━━━━━━━━━━━━━━━━━━━━━━━━\u001b[0m \u001b[32m163.9/163.9 kB\u001b[0m \u001b[31m16.8 MB/s\u001b[0m eta \u001b[36m0:00:00\u001b[0m\n",
            "\u001b[2K     \u001b[90m━━━━━━━━━━━━━━━━━━━━━━━━━━━━━━━━━━━━━━━━\u001b[0m \u001b[32m2.4/2.4 MB\u001b[0m \u001b[31m51.0 MB/s\u001b[0m eta \u001b[36m0:00:00\u001b[0m\n",
            "\u001b[2K     \u001b[90m━━━━━━━━━━━━━━━━━━━━━━━━━━━━━━━━━━━━━━━━\u001b[0m \u001b[32m92.0/92.0 kB\u001b[0m \u001b[31m9.0 MB/s\u001b[0m eta \u001b[36m0:00:00\u001b[0m\n",
            "\u001b[2K     \u001b[90m━━━━━━━━━━━━━━━━━━━━━━━━━━━━━━━━━━━━━━━━\u001b[0m \u001b[32m62.4/62.4 kB\u001b[0m \u001b[31m6.8 MB/s\u001b[0m eta \u001b[36m0:00:00\u001b[0m\n",
            "\u001b[2K     \u001b[90m━━━━━━━━━━━━━━━━━━━━━━━━━━━━━━━━━━━━━━━━\u001b[0m \u001b[32m41.3/41.3 kB\u001b[0m \u001b[31m4.4 MB/s\u001b[0m eta \u001b[36m0:00:00\u001b[0m\n",
            "\u001b[2K     \u001b[90m━━━━━━━━━━━━━━━━━━━━━━━━━━━━━━━━━━━━━━━━\u001b[0m \u001b[32m6.8/6.8 MB\u001b[0m \u001b[31m78.9 MB/s\u001b[0m eta \u001b[36m0:00:00\u001b[0m\n",
            "\u001b[2K     \u001b[90m━━━━━━━━━━━━━━━━━━━━━━━━━━━━━━━━━━━━━━━━\u001b[0m \u001b[32m59.9/59.9 kB\u001b[0m \u001b[31m6.8 MB/s\u001b[0m eta \u001b[36m0:00:00\u001b[0m\n",
            "\u001b[2K     \u001b[90m━━━━━━━━━━━━━━━━━━━━━━━━━━━━━━━━━━━━━━━━\u001b[0m \u001b[32m107.0/107.0 kB\u001b[0m \u001b[31m11.6 MB/s\u001b[0m eta \u001b[36m0:00:00\u001b[0m\n",
            "\u001b[2K     \u001b[90m━━━━━━━━━━━━━━━━━━━━━━━━━━━━━━━━━━━━━━━━\u001b[0m \u001b[32m67.3/67.3 kB\u001b[0m \u001b[31m7.1 MB/s\u001b[0m eta \u001b[36m0:00:00\u001b[0m\n",
            "\u001b[?25h  Installing build dependencies ... \u001b[?25l\u001b[?25hdone\n",
            "  Getting requirements to build wheel ... \u001b[?25l\u001b[?25hdone\n",
            "  Preparing metadata (pyproject.toml) ... \u001b[?25l\u001b[?25hdone\n",
            "\u001b[2K     \u001b[90m━━━━━━━━━━━━━━━━━━━━━━━━━━━━━━━━━━━━━━━━\u001b[0m \u001b[32m283.7/283.7 kB\u001b[0m \u001b[31m16.2 MB/s\u001b[0m eta \u001b[36m0:00:00\u001b[0m\n",
            "\u001b[2K     \u001b[90m━━━━━━━━━━━━━━━━━━━━━━━━━━━━━━━━━━━━━━━━\u001b[0m \u001b[32m1.7/1.7 MB\u001b[0m \u001b[31m44.9 MB/s\u001b[0m eta \u001b[36m0:00:00\u001b[0m\n",
            "\u001b[2K     \u001b[90m━━━━━━━━━━━━━━━━━━━━━━━━━━━━━━━━━━━━━━━━\u001b[0m \u001b[32m67.6/67.6 kB\u001b[0m \u001b[31m5.4 MB/s\u001b[0m eta \u001b[36m0:00:00\u001b[0m\n",
            "\u001b[2K     \u001b[90m━━━━━━━━━━━━━━━━━━━━━━━━━━━━━━━━━━━━━━━━\u001b[0m \u001b[32m141.1/141.1 kB\u001b[0m \u001b[31m255.5 kB/s\u001b[0m eta \u001b[36m0:00:00\u001b[0m\n",
            "\u001b[2K     \u001b[90m━━━━━━━━━━━━━━━━━━━━━━━━━━━━━━━━━━━━━━━━\u001b[0m \u001b[32m75.6/75.6 kB\u001b[0m \u001b[31m5.1 MB/s\u001b[0m eta \u001b[36m0:00:00\u001b[0m\n",
            "\u001b[2K     \u001b[90m━━━━━━━━━━━━━━━━━━━━━━━━━━━━━━━━━━━━━━━━\u001b[0m \u001b[32m49.2/49.2 kB\u001b[0m \u001b[31m4.4 MB/s\u001b[0m eta \u001b[36m0:00:00\u001b[0m\n",
            "\u001b[2K     \u001b[90m━━━━━━━━━━━━━━━━━━━━━━━━━━━━━━━━━━━━━━━━\u001b[0m \u001b[32m71.9/71.9 kB\u001b[0m \u001b[31m5.9 MB/s\u001b[0m eta \u001b[36m0:00:00\u001b[0m\n",
            "\u001b[2K     \u001b[90m━━━━━━━━━━━━━━━━━━━━━━━━━━━━━━━━━━━━━━━━\u001b[0m \u001b[32m53.6/53.6 kB\u001b[0m \u001b[31m4.8 MB/s\u001b[0m eta \u001b[36m0:00:00\u001b[0m\n",
            "\u001b[2K     \u001b[90m━━━━━━━━━━━━━━━━━━━━━━━━━━━━━━━━━━━━━━━━\u001b[0m \u001b[32m718.3/718.3 kB\u001b[0m \u001b[31m26.3 MB/s\u001b[0m eta \u001b[36m0:00:00\u001b[0m\n",
            "\u001b[2K     \u001b[90m━━━━━━━━━━━━━━━━━━━━━━━━━━━━━━━━━━━━━━━━\u001b[0m \u001b[32m77.9/77.9 kB\u001b[0m \u001b[31m2.1 MB/s\u001b[0m eta \u001b[36m0:00:00\u001b[0m\n",
            "\u001b[2K     \u001b[90m━━━━━━━━━━━━━━━━━━━━━━━━━━━━━━━━━━━━━━━━\u001b[0m \u001b[32m58.3/58.3 kB\u001b[0m \u001b[31m7.1 MB/s\u001b[0m eta \u001b[36m0:00:00\u001b[0m\n",
            "\u001b[2K     \u001b[90m━━━━━━━━━━━━━━━━━━━━━━━━━━━━━━━━━━━━━━━━\u001b[0m \u001b[32m46.0/46.0 kB\u001b[0m \u001b[31m3.9 MB/s\u001b[0m eta \u001b[36m0:00:00\u001b[0m\n",
            "\u001b[2K     \u001b[90m━━━━━━━━━━━━━━━━━━━━━━━━━━━━━━━━━━━━━━━━\u001b[0m \u001b[32m52.5/52.5 kB\u001b[0m \u001b[31m5.3 MB/s\u001b[0m eta \u001b[36m0:00:00\u001b[0m\n",
            "\u001b[2K     \u001b[90m━━━━━━━━━━━━━━━━━━━━━━━━━━━━━━━━━━━━━━━━\u001b[0m \u001b[32m130.5/130.5 kB\u001b[0m \u001b[31m12.1 MB/s\u001b[0m eta \u001b[36m0:00:00\u001b[0m\n",
            "\u001b[2K     \u001b[90m━━━━━━━━━━━━━━━━━━━━━━━━━━━━━━━━━━━━━━━━\u001b[0m \u001b[32m341.4/341.4 kB\u001b[0m \u001b[31m9.3 MB/s\u001b[0m eta \u001b[36m0:00:00\u001b[0m\n",
            "\u001b[2K     \u001b[90m━━━━━━━━━━━━━━━━━━━━━━━━━━━━━━━━━━━━━━━━\u001b[0m \u001b[32m3.4/3.4 MB\u001b[0m \u001b[31m44.7 MB/s\u001b[0m eta \u001b[36m0:00:00\u001b[0m\n",
            "\u001b[2K     \u001b[90m━━━━━━━━━━━━━━━━━━━━━━━━━━━━━━━━━━━━━━━━\u001b[0m \u001b[32m1.2/1.2 MB\u001b[0m \u001b[31m33.4 MB/s\u001b[0m eta \u001b[36m0:00:00\u001b[0m\n",
            "\u001b[2K     \u001b[90m━━━━━━━━━━━━━━━━━━━━━━━━━━━━━━━━━━━━━━━━\u001b[0m \u001b[32m130.2/130.2 kB\u001b[0m \u001b[31m13.2 MB/s\u001b[0m eta \u001b[36m0:00:00\u001b[0m\n",
            "\u001b[2K     \u001b[90m━━━━━━━━━━━━━━━━━━━━━━━━━━━━━━━━━━━━━━━━\u001b[0m \u001b[32m307.7/307.7 kB\u001b[0m \u001b[31m19.8 MB/s\u001b[0m eta \u001b[36m0:00:00\u001b[0m\n",
            "\u001b[2K     \u001b[90m━━━━━━━━━━━━━━━━━━━━━━━━━━━━━━━━━━━━━━━━\u001b[0m \u001b[32m86.8/86.8 kB\u001b[0m \u001b[31m9.7 MB/s\u001b[0m eta \u001b[36m0:00:00\u001b[0m\n",
            "\u001b[?25h  Building wheel for pypika (pyproject.toml) ... \u001b[?25l\u001b[?25hdone\n",
            "\u001b[2K     \u001b[90m━━━━━━━━━━━━━━━━━━━━━━━━━━━━━━━━━━━━━━━━\u001b[0m \u001b[32m227.1/227.1 kB\u001b[0m \u001b[31m3.9 MB/s\u001b[0m eta \u001b[36m0:00:00\u001b[0m\n",
            "\u001b[2K     \u001b[90m━━━━━━━━━━━━━━━━━━━━━━━━━━━━━━━━━━━━━━━━\u001b[0m \u001b[32m21.3/21.3 MB\u001b[0m \u001b[31m38.6 MB/s\u001b[0m eta \u001b[36m0:00:00\u001b[0m\n",
            "\u001b[2K     \u001b[90m━━━━━━━━━━━━━━━━━━━━━━━━━━━━━━━━━━━━━━━━\u001b[0m \u001b[32m85.7/85.7 kB\u001b[0m \u001b[31m2.3 MB/s\u001b[0m eta \u001b[36m0:00:00\u001b[0m\n",
            "\u001b[2K     \u001b[90m━━━━━━━━━━━━━━━━━━━━━━━━━━━━━━━━━━━━━━━━\u001b[0m \u001b[32m56.9/56.9 kB\u001b[0m \u001b[31m6.3 MB/s\u001b[0m eta \u001b[36m0:00:00\u001b[0m\n",
            "\u001b[?25h"
          ]
        }
      ],
      "source": [
        "!pip install langchain langchain__community langchain_google_genai chromadb -q\n",
        "\n",
        "!pip install google-generativeai sentence-transformers -q\n",
        "\n",
        "!pip install umap-learn -q"
      ]
    },
    {
      "cell_type": "code",
      "source": [
        "\n",
        "!pip install pypdf -q"
      ],
      "metadata": {
        "colab": {
          "base_uri": "https://localhost:8080/"
        },
        "id": "a3n49jmQBQBX",
        "outputId": "df37a7af-6777-4758-acb5-1dcbb2474b0a"
      },
      "execution_count": 3,
      "outputs": [
        {
          "output_type": "stream",
          "name": "stdout",
          "text": [
            "\u001b[?25l     \u001b[90m━━━━━━━━━━━━━━━━━━━━━━━━━━━━━━━━━━━━━━━━\u001b[0m \u001b[32m0.0/290.4 kB\u001b[0m \u001b[31m?\u001b[0m eta \u001b[36m-:--:--\u001b[0m\r\u001b[2K     \u001b[91m━━━━━━━━━━━━\u001b[0m\u001b[91m╸\u001b[0m\u001b[90m━━━━━━━━━━━━━━━━━━━━━━━━━━━\u001b[0m \u001b[32m92.2/290.4 kB\u001b[0m \u001b[31m2.7 MB/s\u001b[0m eta \u001b[36m0:00:01\u001b[0m\r\u001b[2K     \u001b[90m━━━━━━━━━━━━━━━━━━━━━━━━━━━━━━━━━━━━━━━━\u001b[0m \u001b[32m290.4/290.4 kB\u001b[0m \u001b[31m5.0 MB/s\u001b[0m eta \u001b[36m0:00:00\u001b[0m\n",
            "\u001b[?25h"
          ]
        }
      ]
    },
    {
      "cell_type": "code",
      "source": [
        "import os\n",
        "import umap.umap_ as umap\n",
        "import numpy as np\n",
        "import chromadb\n",
        "import google.generativeai as genai\n",
        "import matplotlib.pyplot as plt\n",
        "\n",
        "from langchain.document_loaders import PyPDFLoader\n",
        "from langchain_text_splitters import RecursiveCharacterTextSplitter, SentenceTransformersTokenTextSplitter\n",
        "\n",
        "from langchain_google_genai import ChatGoogleGenerativeAI\n",
        "\n",
        "from langchain import PromptTemplate\n",
        "from langchain.chains import LLMChain\n",
        "\n",
        "from pypdf import PdfReader\n",
        "\n",
        "from chromadb.utils.embedding_functions import SentenceTransformerEmbeddingFunction\n",
        "\n",
        "from sentence_transformers import CrossEncoder\n",
        "\n",
        "from tqdm import tqdm"
      ],
      "metadata": {
        "id": "SEyXzxyWANg5"
      },
      "execution_count": 76,
      "outputs": []
    },
    {
      "cell_type": "markdown",
      "source": [
        "## Definindo a variável de ambiente e LLM 🤖"
      ],
      "metadata": {
        "id": "8hhdElzHpag7"
      }
    },
    {
      "cell_type": "code",
      "source": [
        "os.environ[\"GOOGLE_API_KEY\"] = \"\"\n",
        "\n",
        "genai.configure(api_key=os.environ[\"GOOGLE_API_KEY\"])"
      ],
      "metadata": {
        "id": "FRN83N94AhSt"
      },
      "execution_count": 9,
      "outputs": []
    },
    {
      "cell_type": "code",
      "source": [
        "\n",
        "llm = ChatGoogleGenerativeAI(\n",
        "    model = \"gemini-1.5-pro-latest\",\n",
        "    temperature=0.2\n",
        ")"
      ],
      "metadata": {
        "id": "hBaRRoXyAjeh"
      },
      "execution_count": 10,
      "outputs": []
    },
    {
      "cell_type": "markdown",
      "source": [
        "## Carregando o arquivo utilizado 💾"
      ],
      "metadata": {
        "id": "l9-mjuJwpmjO"
      }
    },
    {
      "cell_type": "code",
      "source": [
        "file_path = \"/content/2405.06643v1.pdf\"\n",
        "\n",
        "reader = PdfReader(file_path)\n",
        "\n",
        "# Extraindo o texto do objeto PdfReader, que apenas havia\n",
        "# lido e armazenado o texto.\n",
        "\n",
        "pdf_text = [p.extract_text() for p in reader.pages]\n",
        "\n",
        "# Extraindo apenas o texto e desconsiderando porções em branco.\n",
        "\n",
        "pdf_text = [text for text in pdf_text if text]"
      ],
      "metadata": {
        "colab": {
          "base_uri": "https://localhost:8080/"
        },
        "id": "oNKXX8xIBbTw",
        "outputId": "0b533376-c877-4662-95d3-05f71649ccf9"
      },
      "execution_count": 11,
      "outputs": [
        {
          "output_type": "stream",
          "name": "stderr",
          "text": [
            "WARNING:pypdf._reader:Ignoring wrong pointing object 6 0 (offset 0)\n",
            "WARNING:pypdf._reader:Ignoring wrong pointing object 8 0 (offset 0)\n",
            "WARNING:pypdf._reader:Ignoring wrong pointing object 10 0 (offset 0)\n",
            "WARNING:pypdf._reader:Ignoring wrong pointing object 12 0 (offset 0)\n",
            "WARNING:pypdf._reader:Ignoring wrong pointing object 14 0 (offset 0)\n",
            "WARNING:pypdf._reader:Ignoring wrong pointing object 16 0 (offset 0)\n",
            "WARNING:pypdf._reader:Ignoring wrong pointing object 18 0 (offset 0)\n",
            "WARNING:pypdf._reader:Ignoring wrong pointing object 21 0 (offset 0)\n",
            "WARNING:pypdf._reader:Ignoring wrong pointing object 23 0 (offset 0)\n",
            "WARNING:pypdf._reader:Ignoring wrong pointing object 25 0 (offset 0)\n",
            "WARNING:pypdf._reader:Ignoring wrong pointing object 27 0 (offset 0)\n",
            "WARNING:pypdf._reader:Ignoring wrong pointing object 33 0 (offset 0)\n",
            "WARNING:pypdf._reader:Ignoring wrong pointing object 41 0 (offset 0)\n",
            "WARNING:pypdf._reader:Ignoring wrong pointing object 43 0 (offset 0)\n",
            "WARNING:pypdf._reader:Ignoring wrong pointing object 45 0 (offset 0)\n",
            "WARNING:pypdf._reader:Ignoring wrong pointing object 62 0 (offset 0)\n",
            "WARNING:pypdf._reader:Ignoring wrong pointing object 64 0 (offset 0)\n",
            "WARNING:pypdf._reader:Ignoring wrong pointing object 66 0 (offset 0)\n"
          ]
        }
      ]
    },
    {
      "cell_type": "code",
      "source": [
        "# Visualizando o texto carregado.\n",
        "\n",
        "pdf_text[0]"
      ],
      "metadata": {
        "colab": {
          "base_uri": "https://localhost:8080/",
          "height": 123
        },
        "id": "lL0j5r8nCSl5",
        "outputId": "66d1c4b0-c52e-45f0-f053-2b1f2d4c0f1e"
      },
      "execution_count": 12,
      "outputs": [
        {
          "output_type": "execute_result",
          "data": {
            "text/plain": [
              "'Levels of AI Agents: from Rules to Large Language Models  Yu Huang Roboraction.AI  Abstract:   AI agents are defined as artificial entities to perceive the environment, make decisions and take actions. Inspired by the 6 levels of autonomous driving by SAE (Society of Automotive Engineers), the AI agents are also categorized based on utilities and strongness, as the following levels: L0—no AI, with tools (with perception) plus actions; L1—use rule-based AI; L2—let rule-based AI replaced by IL/RL-based AI, with additional reasoning & decision making; L3—apply LLM-based AI instead of IL/RL-based AI, additionally setting up memory & reflection; L4—based on L3, facilitating autonomous learning & generalization; L5—based on L4, appending personality (emotion + character) and collaborative behavior (multi-agents).  1 Introduction  Any entity, that is able to perceive its environment and execute actions, can be regarded as an agent. Agents can be categorized into five types: Simple Reflex agents, Model-based Reflex agents, Goal-based agents, Utility-based agents, and Learning agents [1].   As AI advanced, the term “agent” is used to depict entities exhibiting intelligent behavior and possessing capabilities like autonomy, reactivity, pro-activeness, and social interactions. In the 1950s, Alan Turing proposed the renowned Turing Test [2]. It is a cornerstone in AI and aims to explore whether machines can show intelligent behavior comparable to human beings. These AI entities are usually called “agents”, setting up the basic building blocks of AI systems.  Foundation models [3] have taken shape most strongly in NLP. On a technical level, foundation models are enabled by transfer learning and scale. The idea of transfer learning is to take the “knowledge” learned from one task and apply it to another task. Foundation models usually follow such a paradigm that a model is pre-trained on a surrogate task and then adapted to the downstream task of interest via fine-tuning.  Most of the Large Scale Language Models (LLMs) [4] appearing recently are among or based on the Foundation Models. Due to the remarkable capabilities exhibited recently, LLMs are considered as potential penetration of AI for Artificial General Intelligence (AGI), offering hope for building general AI agents.  An AI agent mostly refers to an artificial entity that is able to perceive its surroundings using sensors, making decisions, and taking actions using actuators [5]. According to the notion of World Scope (WS) [6] that audits the progress of NLP by encompassing 5 levels from NLP to general AI (i.e., Corpus, Internet, Perception, Embodiment, and Social), the pure LLMs-based agents are only built on the 2nd level from the written Internet world.   Except this, LLMs have proved remarkable capabilities in knowledge capture, instruction interpretation, generalization, planning, and reasoning, while showing natural language interactions with humans. From this status, the LLM assisted agents with an expanded perception space and action space, have the potential to reach the 3rd and the 4th levels of World Scope, i.e. Perception AI and Embodied AI respectively.  Moreover, these LLMs-based agents can handle more difficult tasks through collaboration or gaming, and social phenomena can be found, realizing the 5th level of World Scope, the Social World.  In session 2, LLMs is reviewed briefly; session 3 elaborates on various AI agents; levels of AI agents are analyzed and defined in session 4; and conclusion is given ae the end. '"
            ],
            "application/vnd.google.colaboratory.intrinsic+json": {
              "type": "string"
            }
          },
          "metadata": {},
          "execution_count": 12
        }
      ]
    },
    {
      "cell_type": "code",
      "source": [
        "print(f'Quantidade de páginas presentes no arquivo : {len(pdf_text)}')"
      ],
      "metadata": {
        "colab": {
          "base_uri": "https://localhost:8080/"
        },
        "id": "xJ413VS9DaPV",
        "outputId": "e84d2342-e456-44a8-a4bd-6da4bb8df370"
      },
      "execution_count": 13,
      "outputs": [
        {
          "output_type": "stream",
          "name": "stdout",
          "text": [
            "Quantidade de páginas presentes no arquivo : 8\n"
          ]
        }
      ]
    },
    {
      "cell_type": "markdown",
      "source": [
        "## Dividindo o texto\n",
        "\n",
        "Antes do texto passar pelo processo de embedding e ser enviado a um banco de dados vetorial (vector db), faz-se necessário que o esse seja dividido em menores partes, buscando a otimização durante o processo de recuperação da informação armazenada com base na consulta do usuário.\n",
        "\n",
        "Desse modo, essa etapa perpassa duas etapas de divisão, a primeira realizada por meio de um divisor por caractere recursivo, que irá realizar a segmentação contabilizando o arquivo como um todo, e a segunda, que irá realizar uma divisão por tokens, como forma de criar porções semânticamente relevantes.\n",
        "\n",
        "Para saber mais : https://medium.com/@hadiazouni/text-splitting-chunking-for-rag-applications-7ccbb6dcc9f9"
      ],
      "metadata": {
        "id": "eii2bPuQpu9K"
      }
    },
    {
      "cell_type": "code",
      "source": [
        "# Divisão por caractere\n",
        "\n",
        "recursive_splitter = RecursiveCharacterTextSplitter(\n",
        "    chunk_size = 2000,\n",
        "    chunk_overlap = 150,\n",
        "    length_function = len,\n",
        "    separators=['\\n\\n', '\\n', '.', ' ', '']\n",
        ")\n",
        "\n",
        "text_splitted_rc = recursive_splitter.split_text('\\n\\n'.join(pdf_text))\n"
      ],
      "metadata": {
        "id": "JYdsOh4aCZnv"
      },
      "execution_count": 121,
      "outputs": []
    },
    {
      "cell_type": "code",
      "source": [
        "print(f'Quantidade de partes geradas após a primeira divisão : {len(text_splitted_rc)}')"
      ],
      "metadata": {
        "colab": {
          "base_uri": "https://localhost:8080/"
        },
        "id": "jyQ4rK3pDWvR",
        "outputId": "77b44de2-f55a-4d63-fe09-9491d468098e"
      },
      "execution_count": 122,
      "outputs": [
        {
          "output_type": "stream",
          "name": "stdout",
          "text": [
            "Quantidade de partes geradas após a primeira divisão : 16\n"
          ]
        }
      ]
    },
    {
      "cell_type": "code",
      "source": [
        "# Visualizando o texto dividido.\n",
        "\n",
        "text_splitted_rc[:1]"
      ],
      "metadata": {
        "colab": {
          "base_uri": "https://localhost:8080/"
        },
        "id": "ZPs36h0ID8fg",
        "outputId": "0028aeaf-6843-411e-e3b0-d38574854140"
      },
      "execution_count": 123,
      "outputs": [
        {
          "output_type": "execute_result",
          "data": {
            "text/plain": [
              "['Levels of AI Agents: from Rules to Large Language Models  Yu Huang Roboraction.AI  Abstract:   AI agents are defined as artificial entities to perceive the environment, make decisions and take actions. Inspired by the 6 levels of autonomous driving by SAE (Society of Automotive Engineers), the AI agents are also categorized based on utilities and strongness, as the following levels: L0—no AI, with tools (with perception) plus actions; L1—use rule-based AI; L2—let rule-based AI replaced by IL/RL-based AI, with additional reasoning & decision making; L3—apply LLM-based AI instead of IL/RL-based AI, additionally setting up memory & reflection; L4—based on L3, facilitating autonomous learning & generalization; L5—based on L4, appending personality (emotion + character) and collaborative behavior (multi-agents).  1 Introduction  Any entity, that is able to perceive its environment and execute actions, can be regarded as an agent. Agents can be categorized into five types: Simple Reflex agents, Model-based Reflex agents, Goal-based agents, Utility-based agents, and Learning agents [1].   As AI advanced, the term “agent” is used to depict entities exhibiting intelligent behavior and possessing capabilities like autonomy, reactivity, pro-activeness, and social interactions. In the 1950s, Alan Turing proposed the renowned Turing Test [2]. It is a cornerstone in AI and aims to explore whether machines can show intelligent behavior comparable to human beings. These AI entities are usually called “agents”, setting up the basic building blocks of AI systems.  Foundation models [3] have taken shape most strongly in NLP. On a technical level, foundation models are enabled by transfer learning and scale. The idea of transfer learning is to take the “knowledge” learned from one task and apply it to another task. Foundation models usually follow such a paradigm that a model is pre-trained on a surrogate task and then adapted to the downstream task of interest via fine-tuning']"
            ]
          },
          "metadata": {},
          "execution_count": 123
        }
      ]
    },
    {
      "cell_type": "code",
      "source": [
        "# Segunda divisão por tokens.\n",
        "\n",
        "token_splitter = SentenceTransformersTokenTextSplitter(\n",
        "    tokens_per_chunk=256,\n",
        "    chunk_overlap=0\n",
        ")"
      ],
      "metadata": {
        "id": "oOQmmB4cEKk4"
      },
      "execution_count": 124,
      "outputs": []
    },
    {
      "cell_type": "code",
      "source": [
        "token_split_text = []\n",
        "\n",
        "for text in text_splitted_rc:\n",
        "\n",
        "  token_split_text += token_splitter.split_text(text)"
      ],
      "metadata": {
        "id": "Gn9QPpZUEbDP"
      },
      "execution_count": 125,
      "outputs": []
    },
    {
      "cell_type": "code",
      "source": [
        "# Visualizando o texto após a segunda divisão.\n",
        "\n",
        "token_split_text[:1]"
      ],
      "metadata": {
        "colab": {
          "base_uri": "https://localhost:8080/"
        },
        "id": "prQawAoOI5Er",
        "outputId": "2a5e2f09-5abe-4501-cc22-b0479c4c7a30"
      },
      "execution_count": 126,
      "outputs": [
        {
          "output_type": "execute_result",
          "data": {
            "text/plain": [
              "['levels of ai agents : from rules to large language models yu huang roboraction. ai abstract : ai agents are defined as artificial entities to perceive the environment, make decisions and take actions. inspired by the 6 levels of autonomous driving by sae ( society of automotive engineers ), the ai agents are also categorized based on utilities and strongness, as the following levels : l0 — no ai, with tools ( with perception ) plus actions ; l1 — use rule - based ai ; l2 — let rule - based ai replaced by il / rl - based ai, with additional reasoning & decision making ; l3 — apply llm - based ai instead of il / rl - based ai, additionally setting up memory & reflection ; l4 — based on l3, facilitating autonomous learning & generalization ; l5 — based on l4, appending personality ( emotion + character ) and collaborative behavior ( multi - agents ). 1 introduction any entity, that is able to perceive its environment and execute actions, can be regarded as an agent. agents can be categorized into five types : simple reflex agents, model - based reflex agents, goal - based agents, utility - based agents, and learning agents [ 1 ]. as ai advanced, the term “ agent ”']"
            ]
          },
          "metadata": {},
          "execution_count": 126
        }
      ]
    },
    {
      "cell_type": "code",
      "source": [
        "print(f'Quantidade de partes geradas após a segunda divisão : {len(token_split_text)}')"
      ],
      "metadata": {
        "colab": {
          "base_uri": "https://localhost:8080/"
        },
        "id": "i6gAqM9VJCi3",
        "outputId": "ab25d2f2-f814-4f6e-fedb-d50035cc17fc"
      },
      "execution_count": 127,
      "outputs": [
        {
          "output_type": "stream",
          "name": "stdout",
          "text": [
            "Quantidade de partes geradas após a segunda divisão : 32\n"
          ]
        }
      ]
    },
    {
      "cell_type": "markdown",
      "source": [
        "Antes da divisão do arquivo havia 8 páginas, que se estenderam para 29 porções, sendo seguidos por 33 porções após a divisão por tokens."
      ],
      "metadata": {
        "id": "xL7sO1mgJZTo"
      }
    },
    {
      "cell_type": "markdown",
      "source": [
        "## Instanciando o modelo de embedding\n",
        "\n",
        "O modelo de embedding se refere ao algoritmo que transforma elementos de linguagem natural em uma representação vetorial. A sua importância reside no fato de que apenas desse modo consegue-se armazenar dados em um espaço vetorial, como um vector db."
      ],
      "metadata": {
        "id": "-MYk7jAyqw9r"
      }
    },
    {
      "cell_type": "code",
      "source": [
        "# Dados transformados de linguagem natural para uma representação vetorial,\n",
        "# por meio de embedding habilita que sejam que esses banco de dados vetorial\n",
        "# para serem consultados posteriormente.\n",
        "\n",
        "embedding_function = SentenceTransformerEmbeddingFunction()"
      ],
      "metadata": {
        "id": "1cC6IsyLJSF_"
      },
      "execution_count": 30,
      "outputs": []
    },
    {
      "cell_type": "markdown",
      "source": [
        "## Criando o banco de dados vetorial"
      ],
      "metadata": {
        "id": "jyiuwf5Rko1P"
      }
    },
    {
      "cell_type": "code",
      "source": [
        "# Criando o banco de dados vetorial. O banco de dados escolhido\n",
        "# é o Chroma, um framework open source que habilita a criação\n",
        "# desses bancos para uso.\n",
        "\n",
        "# Criando o objeto chroma_client, que me permitirá interagir com o ChromaDB.\n",
        "\n",
        "chroma_client = chromadb.Client()\n",
        "\n",
        "# Criando o banco de dados vetorial. Para isso, define-se seu nome e o modelo\n",
        "# de embedding de uso.\n",
        "\n",
        "chroma_db = chroma_client.create_collection(name = \"levels_of_ai_agents\", embedding_function = embedding_function)"
      ],
      "metadata": {
        "id": "ns7zGA6jK0TC"
      },
      "execution_count": 32,
      "outputs": []
    },
    {
      "cell_type": "code",
      "source": [
        "# Gerando uma lista de identificação para cada porção\n",
        "# presente no meu banco de dados vetorial.\n",
        "\n",
        "ids = [str(i) for i in range(len(token_split_text))]\n",
        ""
      ],
      "metadata": {
        "id": "o9Gh02NfLdiQ"
      },
      "execution_count": 33,
      "outputs": []
    },
    {
      "cell_type": "code",
      "source": [
        "# Adicionando os documentos ao banco de dados vetorial\n",
        "# junto de cada identificação.\n",
        "\n",
        "chroma_db.add(ids=ids, documents=token_split_text)"
      ],
      "metadata": {
        "id": "6MKJ6PAeLhVg"
      },
      "execution_count": 34,
      "outputs": []
    },
    {
      "cell_type": "code",
      "source": [
        "# Verificando a quantidade de itens no banco de dados vetorial.\n",
        "\n",
        "chroma_db.count()"
      ],
      "metadata": {
        "colab": {
          "base_uri": "https://localhost:8080/"
        },
        "id": "PAYaShLRL4lj",
        "outputId": "5876b3c2-63b5-41a8-8fcf-3da94efbf836"
      },
      "execution_count": 35,
      "outputs": [
        {
          "output_type": "execute_result",
          "data": {
            "text/plain": [
              "33"
            ]
          },
          "metadata": {},
          "execution_count": 35
        }
      ]
    },
    {
      "cell_type": "markdown",
      "source": [
        "## Realizando a consulta da informação\n",
        "\n",
        "Nessa etapa irei demonstrar uma abordagem de consulta do tipo padrão, sem utilizar-se de técnicas que visam a eficiência da recuperação e outra que utiliza-se dessas, que será uma combinação de expansive query com cross-encoder re-rank."
      ],
      "metadata": {
        "id": "AGpt1qN3sGLW"
      }
    },
    {
      "cell_type": "markdown",
      "source": [
        "### Implementando a busca padrão"
      ],
      "metadata": {
        "id": "vCLgIklcsjvP"
      }
    },
    {
      "cell_type": "code",
      "source": [
        "\"\"\"\n",
        "Para visualizar o impacto que as técnicas de recuperação avançada\n",
        "representam no instante da consulta do usuário, irei criar um gráfico\n",
        "de dispersão em duas dimensões. Nele, estará dispostos os vetores\n",
        "(representados por círculos) que representam os dados armazenados, bem\n",
        "como o elemento de consulta, representado por x, e os vetores que seriam\n",
        "mais relevantes a essa, representados por um contorno circular verde nos vetores.\n",
        "\"\"\"\n",
        "\n",
        "# Para criar esse gráfico, antes precisarei realizar a transformação\n",
        "# dimensional do vector db.\n",
        "\n",
        "# Extraindo os embeddings do vector db :\n",
        "\n",
        "embeddings = chroma_db.get(include=['embeddings'])[\"embeddings\"]\n",
        "\n",
        "# Ajustando o modelo de transformação dimensional aos embeddings presentes :\n",
        "\n",
        "umap_transform = umap.UMAP(random_state=0, transform_seed=0).fit(embeddings)"
      ],
      "metadata": {
        "colab": {
          "base_uri": "https://localhost:8080/"
        },
        "id": "tz2ygdRtL9Mo",
        "outputId": "18c68621-a1ed-4add-888e-eee5a8f0ec7a"
      },
      "execution_count": 36,
      "outputs": [
        {
          "output_type": "stream",
          "name": "stderr",
          "text": [
            "/usr/local/lib/python3.10/dist-packages/umap/umap_.py:1945: UserWarning: n_jobs value 1 overridden to 1 by setting random_state. Use no seed for parallelism.\n",
            "  warn(f\"n_jobs value {self.n_jobs} overridden to 1 by setting random_state. Use no seed for parallelism.\")\n"
          ]
        }
      ]
    },
    {
      "cell_type": "code",
      "source": [
        "# Criando a função que irá realizar a representação gráfica do vector db\n",
        "\n",
        "def visualize_vector_db(embeddings, umap_transform):\n",
        "\n",
        "  # Criando um array vazio para armazenar os embeddings representados.\n",
        "\n",
        "  umap_embeddings = np.empty((len(embeddings), 2))\n",
        "\n",
        "  # Realizando a transformação dimensional dos embeddings\n",
        "\n",
        "  for i, embedding in enumerate(tqdm(embeddings)):\n",
        "\n",
        "    umap_embeddings[i] = umap_transform.transform([embedding])\n",
        "\n",
        "  return umap_embeddings"
      ],
      "metadata": {
        "id": "0te9C9n3wJ-z"
      },
      "execution_count": 37,
      "outputs": []
    },
    {
      "cell_type": "code",
      "source": [
        "vector_db_graph = visualize_vector_db(embeddings, umap_transform)"
      ],
      "metadata": {
        "colab": {
          "base_uri": "https://localhost:8080/"
        },
        "id": "OksrFMnfxHNT",
        "outputId": "9a06805d-285d-4101-fb88-8f3841b0e578"
      },
      "execution_count": 38,
      "outputs": [
        {
          "output_type": "stream",
          "name": "stderr",
          "text": [
            "100%|██████████| 33/33 [00:54<00:00,  1.65s/it]\n"
          ]
        }
      ]
    },
    {
      "cell_type": "code",
      "source": [
        "# Para visualizar graficamente :\n",
        "\n",
        "plt.figure()\n",
        "plt.scatter(vector_db_graph[:, 0], vector_db_graph[:, 1], s = 10)\n",
        "plt.gca().set_aspect('equal', 'datalim')\n",
        "plt.title('Vector Database')\n",
        "plt.axis('off')\n",
        "\n"
      ],
      "metadata": {
        "colab": {
          "base_uri": "https://localhost:8080/",
          "height": 445
        },
        "id": "-spZ-zm0xSOi",
        "outputId": "6b3a4748-bcde-4485-ce17-a63a016d5ecd"
      },
      "execution_count": 42,
      "outputs": [
        {
          "output_type": "execute_result",
          "data": {
            "text/plain": [
              "(9.634798526763916, 14.345866680145264, 1.8349522709846497, 7.94660314321518)"
            ]
          },
          "metadata": {},
          "execution_count": 42
        },
        {
          "output_type": "display_data",
          "data": {
            "text/plain": [
              "<Figure size 640x480 with 1 Axes>"
            ],
            "image/png": "[encoded data removed]"
          },
          "metadata": {}
        }
      ]
    },
    {
      "cell_type": "code",
      "source": [
        "# Realizando a consulta e verificando a sua eficiência\n",
        "# a partir da visualização do gráfico do vector db.\n",
        "\n",
        "query = \"What they are Agents AI ?\"\n",
        "\n",
        "retrieve = chroma_db.query(query_texts=[query], n_results=5, include=[\"documents\", \"embeddings\"])\n",
        "\n",
        "retrieved_documents = retrieve[\"documents\"][0]"
      ],
      "metadata": {
        "id": "Vz0hNa41xkmT"
      },
      "execution_count": 48,
      "outputs": []
    },
    {
      "cell_type": "code",
      "source": [
        "# Visualizando a recuperação dos documentos presentes no vector db,\n",
        "# com base na consulta realizada.\n",
        "\n",
        "retrieved_documents"
      ],
      "metadata": {
        "colab": {
          "base_uri": "https://localhost:8080/"
        },
        "id": "WQt8YFcXzStL",
        "outputId": "239027a1-47ec-40c7-fe15-5fcde9137ec8"
      },
      "execution_count": 49,
      "outputs": [
        {
          "output_type": "execute_result",
          "data": {
            "text/plain": [
              "['levels of ai agents : from rules to large language models yu huang roboraction. ai abstract : ai agents are defined as artificial entities to perceive the environment, make decisions and take actions. inspired by the 6 levels of autonomous driving by sae ( society of automotive engineers ), the ai agents are also categorized based on utilities and strongness, as the following levels : l0 — no ai, with tools ( with perception ) plus actions ; l1 — use rule - based ai ; l2 — let rule - based ai replaced by il / rl - based ai, with additional reasoning & decision making ; l3 — apply llm - based ai instead of il / rl - based ai, additionally setting up memory & reflection ; l4 — based on l3, facilitating autonomous learning & generalization ; l5 — based on l4, appending personality ( emotion + character ) and collaborative behavior ( multi - agents ). 1 introduction any entity, that is able to perceive its environment and execute actions, can be regarded as an agent. agents can be categorized into five types : simple reflex agents, model - based reflex agents, goal - based agents, utility - based agents, and learning agents [ 1 ]',\n",
              " '. it comes from the collaboration and competition amongst agents, appearing in consensus - based decision - making patterns. by exploiting communication within an agent society, it becomes possible to emulate the evolution in human societies and gain insights. 4. 6 hierarchical levels of ai agents finally the levels of ai agents are defined in table 3. table 3. levels of ai agents',\n",
              " '5 conclusion in this paper, levels of ai agents are categorized based on utilities and strongness, similar to automation levels of autonomous driving by sae. for each level, the additional modules from the previous level could provide stronger ai capabilities and agent utilities. from level 0 to level 3, the ai core has evolved from no ai, to rule - based ai, il / rl based ai to llm - based ai. references [ 1 ] s j russell and p norvig. artificial intelligence : a modern approach ( 4th edition ). pearson education, 2010. [ 2 ] turing, a. m. computing machinery and intelligence. springer, 2009. [ 3 ] r bommasani et al., on the opportunities and risks of foundation models, arxiv 2108. 07258, 2021 [ 4 ] w x zhao, k zhou, j li, et al., a survey of large language models, arxiv 2303. 18223, 2023 [ 5 ] wooldridge, m. j., n. r. jennings. intelligent agents : theory and practice. knowl. eng. rev., 10 ( 2 ) : 115 – 152, 1995. [ 6 ] bisk, y., a. holtzman,',\n",
              " 'ai agents are capable to comprehend, predict, and response based on its training and input data. while these capabilities are developed and improved, it ’ s important to understand their limitations and the effect of the underlying data they are trained on. there are some abilities of ai agent systems : 1 ) perceiving and predictive modeling. 2 ) planning and decision making. 3 ) self - learning and continuous improvement ; 4 ) execution and interaction ; 5 ) personal and collaborative. the goal of embodied intelligence / ai is to build agents, such as robots, which learn to solve tasks with the need of interaction between agents and the environment. for ai agents, an effective approach to learn actions, such as rl, is to carry out trial - and - error experiences via interactions with the environment. training in the physical environment is often not feasible, so using simulators to learn policies is a common approach. symbolic ai [ 17 - 18 ] applied logical rules and symbolic representations to encapsulate knowledge and facilitate reasoning processes, in which critical problems are transduction and representation / reasoning. a classic example is knowledge - based expert systems',\n",
              " '. llm - based agents can interact with each other, giving rise to the emergence of social phenomena. in llm - based multi - agent systems ( mas ), agents involve in collaboration, competition, or hierarchical platform to execute tasks. these tasks could start from search and optimization, decision making, and resource allocation to collaborative control. the relations between agents govern the state of interaction and cooperation among them. emotional reasoning and empathy are important skills for agents in many human - machine interactions. 4 levels of ai agents based on breath ( generality ) and depth ( performance ) of capabilities, a matrixed method to classifying agi is given in [ 28 ] as below table 1.']"
            ]
          },
          "metadata": {},
          "execution_count": 49
        }
      ]
    },
    {
      "cell_type": "code",
      "source": [
        "# Visualizando a eficiência da recuperação :\n",
        "\n",
        "query_embedding = embedding_function(query)[0]\n",
        "\n",
        "retrieved_embedding = retrieve[\"embeddings\"][0]"
      ],
      "metadata": {
        "id": "E9vukgm_zYCi"
      },
      "execution_count": 52,
      "outputs": []
    },
    {
      "cell_type": "code",
      "source": [
        "visualize_query_embedding = visualize_vector_db([query_embedding], umap_transform)\n",
        "visualize_retrieved_embedding = visualize_vector_db(retrieved_embedding, umap_transform)"
      ],
      "metadata": {
        "colab": {
          "base_uri": "https://localhost:8080/"
        },
        "id": "KEN900QN0D17",
        "outputId": "ba99c2ec-7728-442e-92f2-893f8243fcec"
      },
      "execution_count": 53,
      "outputs": [
        {
          "output_type": "stream",
          "name": "stderr",
          "text": [
            "100%|██████████| 1/1 [00:03<00:00,  3.72s/it]\n",
            "100%|██████████| 5/5 [00:04<00:00,  1.05it/s]\n"
          ]
        }
      ]
    },
    {
      "cell_type": "code",
      "source": [
        "# Realizando a visualização gráfica :\n",
        "\n",
        "plt.figure()\n",
        "plt.scatter(vector_db_graph[:, 0], vector_db_graph[:, 1], s = 10, color = 'gray')\n",
        "\n",
        "plt.scatter(visualize_query_embedding[:, 0], visualize_query_embedding[:, 1],\n",
        "            s = 100, marker = 'X', color = 'r')\n",
        "\n",
        "plt.scatter(visualize_retrieved_embedding[:, 0], visualize_retrieved_embedding[:, 1],\n",
        "            s = 100, facecolors = 'none', edgecolors = 'black')\n",
        "\n",
        "plt.gca().set_aspect('equal', 'datalim')\n",
        "plt.title(f'{query}')\n",
        "plt.axis('off')"
      ],
      "metadata": {
        "colab": {
          "base_uri": "https://localhost:8080/",
          "height": 445
        },
        "id": "GxOvr-9V1OjT",
        "outputId": "1f058541-1518-4b07-ff6f-334e4f8d76a0"
      },
      "execution_count": 54,
      "outputs": [
        {
          "output_type": "execute_result",
          "data": {
            "text/plain": [
              "(9.589250755310058, 14.348035621643067, 1.8349522709846497, 7.94660314321518)"
            ]
          },
          "metadata": {},
          "execution_count": 54
        },
        {
          "output_type": "display_data",
          "data": {
            "text/plain": [
              "<Figure size 640x480 with 1 Axes>"
            ],
            "image/png": "[encoded data removed]"
          },
          "metadata": {}
        }
      ]
    },
    {
      "cell_type": "markdown",
      "source": [
        "O gráfico acima busca informar como ocorre a recuperação da informação no banco de dados vetorial, utilizando-se apenas da consulta e da sua similaridade vetorial com os elementos nesse presentes.\n",
        "\n",
        "Nota-se que os dados escolhidos distam dos vetores que possuiriam maior relevância para responder a query informada.\n",
        "\n",
        "Na marcação do X, em vermelho, está os vetores selecionados, enquanto que os mais relevantes são circulados por um contorno em preto."
      ],
      "metadata": {
        "id": "y9kOpygyk2hC"
      }
    },
    {
      "cell_type": "markdown",
      "source": [
        "### Implementando a busca com expansive query mais cross-encoder re-rank\n",
        "\n",
        "Essa implementação é seguida por duas principais etapas. A primeira configura-se na primeira recuperação dos dados, com base na consulta informada, enquanto que a segunda se define por ser uma etapa da seleção do conteúdo mais relevante dos documentos previamente selecionados.\n",
        "\n",
        "No presente cenário, estou combinando essa abordagem com a técnica conhecida como query expansive (expansão da consulta) a partir da qual busco fornecer mais contexto para a pesquisa, buscando promover uma delimitação maior do campo de busca, que somente a query poderia deixar a desejar.\n",
        "\n",
        "Para a realização da recuperação da informação utiliza-se por padrão o ângulo encontrado pelo cosseno, para avaliar a similaridade vetorial entre o elemento de consulta e os dados presentes no banco de dados vetorial. Não obstante, na segunda etapa de seleção, desempenhada pelo cross-encoder essa técnica também é utilizada, mas em conjunto de consulta e elementos a serem recuperados, realizando uma pontuação para cada qual. Aqueles que apresentam melhores pontuações são tidos como mais relevantes, enquanto os que apresentam o oposto são tidos como menos relevantes."
      ],
      "metadata": {
        "id": "20wIiGrz5k5x"
      }
    },
    {
      "cell_type": "markdown",
      "source": [
        "### Primeira etapa : extração da informação com expasive query"
      ],
      "metadata": {
        "id": "6ZRpgks9nRjj"
      }
    },
    {
      "cell_type": "code",
      "source": [
        "def hypothetical_answer(query, model = llm):\n",
        "\n",
        "  prompt_template = PromptTemplate(\n",
        "      input_variables = [\"query\"],\n",
        "      template = (\n",
        "        \"\"\"\n",
        "        Your are helpful specialist in artificial inteligence developer.\n",
        "        Provide an detail example answer to the given question, that might be found\n",
        "        in a document that talks about AI Agents.\n",
        "\n",
        "        Question : {query}\n",
        "\n",
        "        Helpful Answer :\n",
        "\n",
        "        \"\"\"\n",
        "        )\n",
        "      )\n",
        "\n",
        "  chain = LLMChain(llm = model, prompt = prompt_template)\n",
        "\n",
        "  response = chain.run(query = query)\n",
        "\n",
        "  return response\n",
        "\n",
        ""
      ],
      "metadata": {
        "id": "3F42xa242No7"
      },
      "execution_count": 104,
      "outputs": []
    },
    {
      "cell_type": "code",
      "source": [
        "original_query = \"What they are Agents AI ?\"\n",
        "hypothetical_answer_output = hypothetical_answer(original_query)"
      ],
      "metadata": {
        "id": "fH1Xn9fg7VzE"
      },
      "execution_count": 105,
      "outputs": []
    },
    {
      "cell_type": "code",
      "source": [
        "# Visualizando as perguntas geradas pelo modelo.\n",
        "\n",
        "hypothetical_answer_output"
      ],
      "metadata": {
        "colab": {
          "base_uri": "https://localhost:8080/",
          "height": 123
        },
        "id": "UriUTY6y7eeq",
        "outputId": "e0b697ea-d134-4a80-c7dc-0da57d65ca4a"
      },
      "execution_count": 106,
      "outputs": [
        {
          "output_type": "execute_result",
          "data": {
            "text/plain": [
              "\"## Helpful Answer: What are AI Agents?\\n\\nImagine a digital assistant that not only follows your instructions but can also learn from its experiences, adapt to changing environments, and make decisions to achieve specific goals. That's the essence of an **AI agent**. \\n\\nIn simpler terms, an **AI agent** is a **software program** or **system** that:\\n\\n1. **Perceives its environment** through **sensors**, which could be anything from cameras and microphones to data streams and databases.\\n2. **Processes this information** using its **artificial intelligence**, which could be a set of rules, a machine learning model, or a complex neural network.\\n3. **Takes actions** to achieve its **goals**, using **actuators** that interact with its environment. These actions could be anything from sending an email or controlling a robot arm to making a trade on the stock market or recommending a product.\\n\\n**Here's an analogy:** Think of a self-driving car. \\n\\n* **Sensors:** Cameras, radar, lidar, GPS, etc. (perceive the environment)\\n* **AI:**  Navigation system, object detection algorithms, path planning algorithms (process information and make decisions)\\n* **Actuators:** Steering wheel, accelerator, brakes (take actions)\\n* **Goal:** Transport passengers safely and efficiently to their destination.\\n\\n**Key characteristics of AI agents:**\\n\\n* **Autonomous:** They can operate independently, making decisions and taking actions without constant human intervention.\\n* **Goal-oriented:** They are designed to achieve specific objectives.\\n* **Adaptive:** They can learn from their experiences and adjust their behavior to changing circumstances.\\n* **Interactive:** They can interact with their environment, other agents, and even humans.\\n\\n**Examples of AI agents in action:**\\n\\n* **Chatbots:** Answering customer queries, providing support, and guiding users through websites.\\n* **Recommendation systems:** Suggesting products, movies, or music based on user preferences.\\n* **Trading bots:** Analyzing market data and executing trades automatically.\\n* **Gaming AI:** Controlling non-player characters (NPCs) in video games.\\n\\n**In conclusion, AI agents are powerful tools that can automate tasks, solve complex problems, and enhance human capabilities. As AI technology continues to advance, we can expect to see even more sophisticated and capable agents emerge, transforming various industries and aspects of our lives.** \\n\""
            ],
            "application/vnd.google.colaboratory.intrinsic+json": {
              "type": "string"
            }
          },
          "metadata": {},
          "execution_count": 106
        }
      ]
    },
    {
      "cell_type": "code",
      "source": [
        "# Realizando a primeira etapa da busca, com expansive query :\n",
        "\n",
        "joint_query = f'{original_query}\\n\\n{hypothetical_answer_output}'\n",
        "\n",
        "joint_query"
      ],
      "metadata": {
        "colab": {
          "base_uri": "https://localhost:8080/",
          "height": 123
        },
        "id": "qUr4-VDp7hIp",
        "outputId": "87189661-1269-4316-d0cd-31c0cfd7de03"
      },
      "execution_count": 107,
      "outputs": [
        {
          "output_type": "execute_result",
          "data": {
            "text/plain": [
              "\"What they are Agents AI ?\\n\\n## Helpful Answer: What are AI Agents?\\n\\nImagine a digital assistant that not only follows your instructions but can also learn from its experiences, adapt to changing environments, and make decisions to achieve specific goals. That's the essence of an **AI agent**. \\n\\nIn simpler terms, an **AI agent** is a **software program** or **system** that:\\n\\n1. **Perceives its environment** through **sensors**, which could be anything from cameras and microphones to data streams and databases.\\n2. **Processes this information** using its **artificial intelligence**, which could be a set of rules, a machine learning model, or a complex neural network.\\n3. **Takes actions** to achieve its **goals**, using **actuators** that interact with its environment. These actions could be anything from sending an email or controlling a robot arm to making a trade on the stock market or recommending a product.\\n\\n**Here's an analogy:** Think of a self-driving car. \\n\\n* **Sensors:** Cameras, radar, lidar, GPS, etc. (perceive the environment)\\n* **AI:**  Navigation system, object detection algorithms, path planning algorithms (process information and make decisions)\\n* **Actuators:** Steering wheel, accelerator, brakes (take actions)\\n* **Goal:** Transport passengers safely and efficiently to their destination.\\n\\n**Key characteristics of AI agents:**\\n\\n* **Autonomous:** They can operate independently, making decisions and taking actions without constant human intervention.\\n* **Goal-oriented:** They are designed to achieve specific objectives.\\n* **Adaptive:** They can learn from their experiences and adjust their behavior to changing circumstances.\\n* **Interactive:** They can interact with their environment, other agents, and even humans.\\n\\n**Examples of AI agents in action:**\\n\\n* **Chatbots:** Answering customer queries, providing support, and guiding users through websites.\\n* **Recommendation systems:** Suggesting products, movies, or music based on user preferences.\\n* **Trading bots:** Analyzing market data and executing trades automatically.\\n* **Gaming AI:** Controlling non-player characters (NPCs) in video games.\\n\\n**In conclusion, AI agents are powerful tools that can automate tasks, solve complex problems, and enhance human capabilities. As AI technology continues to advance, we can expect to see even more sophisticated and capable agents emerge, transforming various industries and aspects of our lives.** \\n\""
            ],
            "application/vnd.google.colaboratory.intrinsic+json": {
              "type": "string"
            }
          },
          "metadata": {},
          "execution_count": 107
        }
      ]
    },
    {
      "cell_type": "code",
      "source": [
        "results = chroma_db.query(query_texts=joint_query, n_results=10, include=[\"documents\",\n",
        "                                                                      \"embeddings\"])"
      ],
      "metadata": {
        "id": "Mtv-gJBzNl5R"
      },
      "execution_count": 108,
      "outputs": []
    },
    {
      "cell_type": "code",
      "source": [
        "retrieved_documents = results['documents'][0]"
      ],
      "metadata": {
        "id": "FW7HQGtl-1yr"
      },
      "execution_count": 109,
      "outputs": []
    },
    {
      "cell_type": "code",
      "source": [
        "# Visualizando alguns dos documentos extraídos.\n",
        "\n",
        "retrieved_documents[:2]"
      ],
      "metadata": {
        "colab": {
          "base_uri": "https://localhost:8080/"
        },
        "id": "L-XnTb5ICw6q",
        "outputId": "9aba29f6-f531-4884-c92e-65c505f44d97"
      },
      "execution_count": 110,
      "outputs": [
        {
          "output_type": "execute_result",
          "data": {
            "text/plain": [
              "['levels of ai agents : from rules to large language models yu huang roboraction. ai abstract : ai agents are defined as artificial entities to perceive the environment, make decisions and take actions. inspired by the 6 levels of autonomous driving by sae ( society of automotive engineers ), the ai agents are also categorized based on utilities and strongness, as the following levels : l0 — no ai, with tools ( with perception ) plus actions ; l1 — use rule - based ai ; l2 — let rule - based ai replaced by il / rl - based ai, with additional reasoning & decision making ; l3 — apply llm - based ai instead of il / rl - based ai, additionally setting up memory & reflection ; l4 — based on l3, facilitating autonomous learning & generalization ; l5 — based on l4, appending personality ( emotion + character ) and collaborative behavior ( multi - agents ). 1 introduction any entity, that is able to perceive its environment and execute actions, can be regarded as an agent. agents can be categorized into five types : simple reflex agents, model - based reflex agents, goal - based agents, utility - based agents, and learning agents [ 1 ]',\n",
              " 'ai agents are capable to comprehend, predict, and response based on its training and input data. while these capabilities are developed and improved, it ’ s important to understand their limitations and the effect of the underlying data they are trained on. there are some abilities of ai agent systems : 1 ) perceiving and predictive modeling. 2 ) planning and decision making. 3 ) self - learning and continuous improvement ; 4 ) execution and interaction ; 5 ) personal and collaborative. the goal of embodied intelligence / ai is to build agents, such as robots, which learn to solve tasks with the need of interaction between agents and the environment. for ai agents, an effective approach to learn actions, such as rl, is to carry out trial - and - error experiences via interactions with the environment. training in the physical environment is often not feasible, so using simulators to learn policies is a common approach. symbolic ai [ 17 - 18 ] applied logical rules and symbolic representations to encapsulate knowledge and facilitate reasoning processes, in which critical problems are transduction and representation / reasoning. a classic example is knowledge - based expert systems']"
            ]
          },
          "metadata": {},
          "execution_count": 110
        }
      ]
    },
    {
      "cell_type": "markdown",
      "source": [
        "### Visualizando o ganho que a expansive query oferece no campo de busca."
      ],
      "metadata": {
        "id": "l3Ftc1ium1ER"
      }
    },
    {
      "cell_type": "code",
      "source": [
        "# Visualiando a melhora no campo de busca com a utilização\n",
        "# da expansion query :\n",
        "\n",
        "retrieved_embedding = results['embeddings'][0]\n",
        "original_query_embedding = embedding_function(original_query)[0]\n",
        "argument_query_embedding = embedding_function(hypothetical_answer_output)[0]\n",
        "\n",
        "visualize_original_query_embedding = visualize_vector_db([original_query_embedding], umap_transform)\n",
        "visualize_argument_query_embedding = visualize_vector_db([argument_query_embedding], umap_transform)\n",
        "visualize_retrieved_embedding = visualize_vector_db(retrieved_embedding, umap_transform)"
      ],
      "metadata": {
        "colab": {
          "base_uri": "https://localhost:8080/"
        },
        "id": "_zzTwYWNKfNb",
        "outputId": "10ac2b97-ba59-4f09-b9c2-ad951370ec0f"
      },
      "execution_count": 111,
      "outputs": [
        {
          "output_type": "stream",
          "name": "stderr",
          "text": [
            "100%|██████████| 1/1 [00:00<00:00,  1.15it/s]\n",
            "100%|██████████| 1/1 [00:02<00:00,  2.19s/it]\n",
            "100%|██████████| 10/10 [00:10<00:00,  1.04s/it]\n"
          ]
        }
      ]
    },
    {
      "cell_type": "code",
      "source": [
        "plt.figure()\n",
        "\n",
        "plt.scatter(vector_db_graph[:, 0], vector_db_graph[:, 1], s = 10, color = 'gray')\n",
        "\n",
        "plt.scatter(visualize_original_query_embedding[:, 0], visualize_original_query_embedding[:, 1],\n",
        "            s = 100, marker = 'X', color = 'red')\n",
        "\n",
        "plt.scatter(visualize_argument_query_embedding[:, 0], visualize_argument_query_embedding[:, 1],\n",
        "            s = 100, marker = 'X', color = 'black')\n",
        "\n",
        "plt.scatter(visualize_retrieved_embedding[:, 0], visualize_retrieved_embedding[:, 1],\n",
        "            s = 100, facecolors = 'none', edgecolors = 'black')\n",
        "\n",
        "plt.gca().set_aspect('equal', 'datalim')\n",
        "plt.title(f'{original_query}')\n",
        "plt.axis('off')"
      ],
      "metadata": {
        "colab": {
          "base_uri": "https://localhost:8080/",
          "height": 445
        },
        "id": "IzFTJERjLvRh",
        "outputId": "23217328-7357-43ac-e0f8-eb02cc6d40e7"
      },
      "execution_count": 112,
      "outputs": [
        {
          "output_type": "execute_result",
          "data": {
            "text/plain": [
              "(9.589250755310058, 14.348035621643067, 1.8349522709846497, 7.94660314321518)"
            ]
          },
          "metadata": {},
          "execution_count": 112
        },
        {
          "output_type": "display_data",
          "data": {
            "text/plain": [
              "<Figure size 640x480 with 1 Axes>"
            ],
            "image/png": "[encoded data removed]"
          },
          "metadata": {}
        }
      ]
    },
    {
      "cell_type": "markdown",
      "source": [
        "Como pode ser observado graficamente. A consulta original sem a combinação da query promove uma seleção distante dos vetores mais relevantes, enquanto que a combinação (X na coloração preta), apresenta uma menor distãncia entre alguns desses."
      ],
      "metadata": {
        "id": "v1JY1-Ddm7vj"
      }
    },
    {
      "cell_type": "markdown",
      "source": [
        "### Segunda etapa : extração da informação com cross-encoder"
      ],
      "metadata": {
        "id": "-5tB6VQina43"
      }
    },
    {
      "cell_type": "code",
      "source": [
        "# Instanciando o modelo de cross-encoder para a realização\n",
        "# da segunda etapa de seleção dos documentos mais relevantes\n",
        "# à consulta do usuário.\n",
        "\n",
        "cross_encoder = CrossEncoder('cross-encoder/ms-marco-MiniLM-L-6-v2')"
      ],
      "metadata": {
        "colab": {
          "base_uri": "https://localhost:8080/"
        },
        "id": "Wx0-7ck4_B1r",
        "outputId": "f1898f59-269c-4867-8442-23563dea6587"
      },
      "execution_count": 113,
      "outputs": [
        {
          "output_type": "stream",
          "name": "stderr",
          "text": [
            "/usr/local/lib/python3.10/dist-packages/huggingface_hub/file_download.py:1132: FutureWarning: `resume_download` is deprecated and will be removed in version 1.0.0. Downloads always resume when possible. If you want to force a new download, use `force_download=True`.\n",
            "  warnings.warn(\n"
          ]
        }
      ]
    },
    {
      "cell_type": "code",
      "source": [
        "# Formando o par consulta e documentos.\n",
        "\n",
        "pairs = [[query, doc] for doc in retrieved_documents]\n",
        "\n",
        "# Obtendo a pontuação dos documentos, com base na consulta.\n",
        "# Aqueles que apresentam a melhor pontuação são aqueles que\n",
        "# são tidos como mais relevantes em responder a consulta.\n",
        "\n",
        "scores = cross_encoder.predict(pairs)"
      ],
      "metadata": {
        "id": "1-tDXsLTCY-U"
      },
      "execution_count": 114,
      "outputs": []
    },
    {
      "cell_type": "code",
      "source": [
        "# Etapa 4: Ordenando os documentos com base nos scores obtidos\n",
        "\n",
        "documents_with_scores = list(zip(retrieved_documents, scores))"
      ],
      "metadata": {
        "id": "CPcBPwmQDyV2"
      },
      "execution_count": 115,
      "outputs": []
    },
    {
      "cell_type": "code",
      "source": [
        "# Visualizando os documentos extraídos na primeira etapa\n",
        "# com a sua respectiva pontuação.\n",
        "\n",
        "documents_with_scores"
      ],
      "metadata": {
        "colab": {
          "base_uri": "https://localhost:8080/"
        },
        "id": "X_9e_tWFD2ss",
        "outputId": "4e62d243-685e-4f05-86fc-72caed8f673f"
      },
      "execution_count": 116,
      "outputs": [
        {
          "output_type": "execute_result",
          "data": {
            "text/plain": [
              "[('levels of ai agents : from rules to large language models yu huang roboraction. ai abstract : ai agents are defined as artificial entities to perceive the environment, make decisions and take actions. inspired by the 6 levels of autonomous driving by sae ( society of automotive engineers ), the ai agents are also categorized based on utilities and strongness, as the following levels : l0 — no ai, with tools ( with perception ) plus actions ; l1 — use rule - based ai ; l2 — let rule - based ai replaced by il / rl - based ai, with additional reasoning & decision making ; l3 — apply llm - based ai instead of il / rl - based ai, additionally setting up memory & reflection ; l4 — based on l3, facilitating autonomous learning & generalization ; l5 — based on l4, appending personality ( emotion + character ) and collaborative behavior ( multi - agents ). 1 introduction any entity, that is able to perceive its environment and execute actions, can be regarded as an agent. agents can be categorized into five types : simple reflex agents, model - based reflex agents, goal - based agents, utility - based agents, and learning agents [ 1 ]',\n",
              "  6.289611),\n",
              " ('ai agents are capable to comprehend, predict, and response based on its training and input data. while these capabilities are developed and improved, it ’ s important to understand their limitations and the effect of the underlying data they are trained on. there are some abilities of ai agent systems : 1 ) perceiving and predictive modeling. 2 ) planning and decision making. 3 ) self - learning and continuous improvement ; 4 ) execution and interaction ; 5 ) personal and collaborative. the goal of embodied intelligence / ai is to build agents, such as robots, which learn to solve tasks with the need of interaction between agents and the environment. for ai agents, an effective approach to learn actions, such as rl, is to carry out trial - and - error experiences via interactions with the environment. training in the physical environment is often not feasible, so using simulators to learn policies is a common approach. symbolic ai [ 17 - 18 ] applied logical rules and symbolic representations to encapsulate knowledge and facilitate reasoning processes, in which critical problems are transduction and representation / reasoning. a classic example is knowledge - based expert systems',\n",
              "  6.278948),\n",
              " ('. a classic example is knowledge - based expert systems. the symbolic agents confronted limitations in uncertainty and large - scale problems. they mainly relied on fixed algorithms or rule sets, working well in tasks they were built for. however, they were often difficult with generalization and reasoning when facing ood ( out - of - distribution ) tasks. rl - based agents [ 19 - 24 ] are trained by cumulative reward - based learning through interactions with their environments for handling more difficult tasks. an example is alphago with q - learning. nonetheless, rl ’ s problems are long training times, low sample efficiency, and stability concerns, especially for real - world environments. knowledge agents can utilize the knowledge implicitly or explicitly. implicit knowledge is typically what llms encapsulate, and explicit knowledge is structured and queried to generate responses. the combination of implicit and explicit knowledge enable ai agents to apply knowledge contextually, akin to human intelligence',\n",
              "  1.7689902),\n",
              " ('performance estimates how agi compares to human - level performance for a given task. generality measures the range of tasks for which an ai gets to a goal performance threshold. the rate of progression between levels of performance and / or generality may be nonlinear. table 1. levels of agi [ 28 ] the desired features of personal llm agents [ 35 ] need different kinds of capabilities. inspired by the six levels of autonomous driving given by sae ( society of automotive engineers ), the intelligence levels of personal llm agents are categorized into 5 levels, from l1 to l5. the key characteristics and representative use cases of each level are listed in the table 2 as below. table 2. levels of personal llm agents [ 35 ] in this paper, levels of ai agents are defined based on utilities and strongness. 4. 1 tools ( perception + action )',\n",
              "  -0.54959106),\n",
              " ('. the combination of implicit and explicit knowledge enable ai agents to apply knowledge contextually, akin to human intelligence. llm - based agents [ 25 - 35 ] employ llms as the primary component of brain or controller and expand their perceptual and action space through strategies such as multimodal perception and tool utilization. they can enable reasoning and planning abilities through techniques like chain - of - thought ( cot ) and task splitting. the llms has given rise to significant changes to ai agent design. these llm agents are not only proficient in comprehending and producing natural language but also good at generalization. this ability enables easy integration with various tools, enhancing their versatility. on the other hand, the emergent abilities of llms shows the advantage at reasoning. llm agents, with pre - trained knowledge, have been prone to decision - making strategies even without task - specific training. on the other hand, rl agents often need to train from scratch in unseen cases, employing interaction to learn. llm - based agents can interact with each other, giving rise to the emergence of social phenomena',\n",
              "  3.924279),\n",
              " ('various external tools support richer action capabilities for agents, including apis, knowledge bases, visual encoding models and language models, enabling the agent to adapt to environmental changes, provide interaction and feedback, and even influence the environment. the tool execution can reflect the agents ’ complex requirements and augment the credibility of their decisions. the action module targets at transforming the agent ’ s decisions to specific outcomes. it interacts with the environment and gets feedback, deciding the agent ’ s effectiveness in realizing tasks. the effectiveness of human feedback with the environment could enable agents to validate their action results. the action can have the perception module, the low - level motion planner and controller, especially in in robotics and autonomous driving. especially, the perception module, like human sensory systems, i. e. the eyes and ears, perceives variations in the environment and then transfers multimodal information into an unified representation for the agent',\n",
              "  -2.7031944),\n",
              " ('. most of the large scale language models ( llms ) [ 4 ] appearing recently are among or based on the foundation models. due to the remarkable capabilities exhibited recently, llms are considered as potential penetration of ai for artificial general intelligence ( agi ), offering hope for building general ai agents. an ai agent mostly refers to an artificial entity that is able to perceive its surroundings using sensors, making decisions, and taking actions using actuators [ 5 ]. according to the notion of world scope ( ws ) [ 6 ] that audits the progress of nlp by encompassing 5 levels from nlp to general ai ( i. e., corpus, internet, perception, embodiment, and social ), the pure llms - based agents are only built on the 2nd level from the written internet world. except this, llms have proved remarkable capabilities in knowledge capture, instruction interpretation, generalization, planning, and reasoning, while showing natural language interactions with humans. from this status, the llm assisted agents with an expanded perception space and action space, have the potential to reach the 3rd and the 4th levels of world scope, i. e. perception ai and embodied ai respectively',\n",
              "  4.7248764),\n",
              " ('. it comes from the collaboration and competition amongst agents, appearing in consensus - based decision - making patterns. by exploiting communication within an agent society, it becomes possible to emulate the evolution in human societies and gain insights. 4. 6 hierarchical levels of ai agents finally the levels of ai agents are defined in table 3. table 3. levels of ai agents',\n",
              "  3.9534044),\n",
              " ('. multimodal llms have been widely applied to various tasks, such as image understanding, video understanding, medical diagnosis, and embodied ai etc. it is regarded that llms are equipped with human - like intelligence and common sense to preserve the potential to make us closer to the artificial general intelligence ( agi ) field. the emergence of llms is possibly the milestone of knowledge - driven agents, which perceive the environment and accumulate knowledge [ 17 - 27 ]. 3 ai agents',\n",
              "  1.4406075),\n",
              " ('. llm - based agents can interact with each other, giving rise to the emergence of social phenomena. in llm - based multi - agent systems ( mas ), agents involve in collaboration, competition, or hierarchical platform to execute tasks. these tasks could start from search and optimization, decision making, and resource allocation to collaborative control. the relations between agents govern the state of interaction and cooperation among them. emotional reasoning and empathy are important skills for agents in many human - machine interactions. 4 levels of ai agents based on breath ( generality ) and depth ( performance ) of capabilities, a matrixed method to classifying agi is given in [ 28 ] as below table 1.',\n",
              "  2.6432838)]"
            ]
          },
          "metadata": {},
          "execution_count": 116
        }
      ]
    },
    {
      "cell_type": "code",
      "source": [
        "# Reordenando os documentos, com base em sua pontuação.\n",
        "# Aqueles que apresentam maior pontuação são tidos como mais relevantes.\n",
        "\n",
        "ranked_documents = sorted(documents_with_scores, key=lambda x: x[1], reverse=True)"
      ],
      "metadata": {
        "id": "HGvJCTpxEPmj"
      },
      "execution_count": 117,
      "outputs": []
    },
    {
      "cell_type": "code",
      "source": [
        "# Visualizando os documentos reordenados :\n",
        "\n",
        "ranked_documents"
      ],
      "metadata": {
        "colab": {
          "base_uri": "https://localhost:8080/"
        },
        "id": "ame_dmOvGBCP",
        "outputId": "24c1f974-010a-47d6-d113-491a5a6b9df4"
      },
      "execution_count": 118,
      "outputs": [
        {
          "output_type": "execute_result",
          "data": {
            "text/plain": [
              "[('levels of ai agents : from rules to large language models yu huang roboraction. ai abstract : ai agents are defined as artificial entities to perceive the environment, make decisions and take actions. inspired by the 6 levels of autonomous driving by sae ( society of automotive engineers ), the ai agents are also categorized based on utilities and strongness, as the following levels : l0 — no ai, with tools ( with perception ) plus actions ; l1 — use rule - based ai ; l2 — let rule - based ai replaced by il / rl - based ai, with additional reasoning & decision making ; l3 — apply llm - based ai instead of il / rl - based ai, additionally setting up memory & reflection ; l4 — based on l3, facilitating autonomous learning & generalization ; l5 — based on l4, appending personality ( emotion + character ) and collaborative behavior ( multi - agents ). 1 introduction any entity, that is able to perceive its environment and execute actions, can be regarded as an agent. agents can be categorized into five types : simple reflex agents, model - based reflex agents, goal - based agents, utility - based agents, and learning agents [ 1 ]',\n",
              "  6.289611),\n",
              " ('ai agents are capable to comprehend, predict, and response based on its training and input data. while these capabilities are developed and improved, it ’ s important to understand their limitations and the effect of the underlying data they are trained on. there are some abilities of ai agent systems : 1 ) perceiving and predictive modeling. 2 ) planning and decision making. 3 ) self - learning and continuous improvement ; 4 ) execution and interaction ; 5 ) personal and collaborative. the goal of embodied intelligence / ai is to build agents, such as robots, which learn to solve tasks with the need of interaction between agents and the environment. for ai agents, an effective approach to learn actions, such as rl, is to carry out trial - and - error experiences via interactions with the environment. training in the physical environment is often not feasible, so using simulators to learn policies is a common approach. symbolic ai [ 17 - 18 ] applied logical rules and symbolic representations to encapsulate knowledge and facilitate reasoning processes, in which critical problems are transduction and representation / reasoning. a classic example is knowledge - based expert systems',\n",
              "  6.278948),\n",
              " ('. most of the large scale language models ( llms ) [ 4 ] appearing recently are among or based on the foundation models. due to the remarkable capabilities exhibited recently, llms are considered as potential penetration of ai for artificial general intelligence ( agi ), offering hope for building general ai agents. an ai agent mostly refers to an artificial entity that is able to perceive its surroundings using sensors, making decisions, and taking actions using actuators [ 5 ]. according to the notion of world scope ( ws ) [ 6 ] that audits the progress of nlp by encompassing 5 levels from nlp to general ai ( i. e., corpus, internet, perception, embodiment, and social ), the pure llms - based agents are only built on the 2nd level from the written internet world. except this, llms have proved remarkable capabilities in knowledge capture, instruction interpretation, generalization, planning, and reasoning, while showing natural language interactions with humans. from this status, the llm assisted agents with an expanded perception space and action space, have the potential to reach the 3rd and the 4th levels of world scope, i. e. perception ai and embodied ai respectively',\n",
              "  4.7248764),\n",
              " ('. it comes from the collaboration and competition amongst agents, appearing in consensus - based decision - making patterns. by exploiting communication within an agent society, it becomes possible to emulate the evolution in human societies and gain insights. 4. 6 hierarchical levels of ai agents finally the levels of ai agents are defined in table 3. table 3. levels of ai agents',\n",
              "  3.9534044),\n",
              " ('. the combination of implicit and explicit knowledge enable ai agents to apply knowledge contextually, akin to human intelligence. llm - based agents [ 25 - 35 ] employ llms as the primary component of brain or controller and expand their perceptual and action space through strategies such as multimodal perception and tool utilization. they can enable reasoning and planning abilities through techniques like chain - of - thought ( cot ) and task splitting. the llms has given rise to significant changes to ai agent design. these llm agents are not only proficient in comprehending and producing natural language but also good at generalization. this ability enables easy integration with various tools, enhancing their versatility. on the other hand, the emergent abilities of llms shows the advantage at reasoning. llm agents, with pre - trained knowledge, have been prone to decision - making strategies even without task - specific training. on the other hand, rl agents often need to train from scratch in unseen cases, employing interaction to learn. llm - based agents can interact with each other, giving rise to the emergence of social phenomena',\n",
              "  3.924279),\n",
              " ('. llm - based agents can interact with each other, giving rise to the emergence of social phenomena. in llm - based multi - agent systems ( mas ), agents involve in collaboration, competition, or hierarchical platform to execute tasks. these tasks could start from search and optimization, decision making, and resource allocation to collaborative control. the relations between agents govern the state of interaction and cooperation among them. emotional reasoning and empathy are important skills for agents in many human - machine interactions. 4 levels of ai agents based on breath ( generality ) and depth ( performance ) of capabilities, a matrixed method to classifying agi is given in [ 28 ] as below table 1.',\n",
              "  2.6432838),\n",
              " ('. a classic example is knowledge - based expert systems. the symbolic agents confronted limitations in uncertainty and large - scale problems. they mainly relied on fixed algorithms or rule sets, working well in tasks they were built for. however, they were often difficult with generalization and reasoning when facing ood ( out - of - distribution ) tasks. rl - based agents [ 19 - 24 ] are trained by cumulative reward - based learning through interactions with their environments for handling more difficult tasks. an example is alphago with q - learning. nonetheless, rl ’ s problems are long training times, low sample efficiency, and stability concerns, especially for real - world environments. knowledge agents can utilize the knowledge implicitly or explicitly. implicit knowledge is typically what llms encapsulate, and explicit knowledge is structured and queried to generate responses. the combination of implicit and explicit knowledge enable ai agents to apply knowledge contextually, akin to human intelligence',\n",
              "  1.7689902),\n",
              " ('. multimodal llms have been widely applied to various tasks, such as image understanding, video understanding, medical diagnosis, and embodied ai etc. it is regarded that llms are equipped with human - like intelligence and common sense to preserve the potential to make us closer to the artificial general intelligence ( agi ) field. the emergence of llms is possibly the milestone of knowledge - driven agents, which perceive the environment and accumulate knowledge [ 17 - 27 ]. 3 ai agents',\n",
              "  1.4406075),\n",
              " ('performance estimates how agi compares to human - level performance for a given task. generality measures the range of tasks for which an ai gets to a goal performance threshold. the rate of progression between levels of performance and / or generality may be nonlinear. table 1. levels of agi [ 28 ] the desired features of personal llm agents [ 35 ] need different kinds of capabilities. inspired by the six levels of autonomous driving given by sae ( society of automotive engineers ), the intelligence levels of personal llm agents are categorized into 5 levels, from l1 to l5. the key characteristics and representative use cases of each level are listed in the table 2 as below. table 2. levels of personal llm agents [ 35 ] in this paper, levels of ai agents are defined based on utilities and strongness. 4. 1 tools ( perception + action )',\n",
              "  -0.54959106),\n",
              " ('various external tools support richer action capabilities for agents, including apis, knowledge bases, visual encoding models and language models, enabling the agent to adapt to environmental changes, provide interaction and feedback, and even influence the environment. the tool execution can reflect the agents ’ complex requirements and augment the credibility of their decisions. the action module targets at transforming the agent ’ s decisions to specific outcomes. it interacts with the environment and gets feedback, deciding the agent ’ s effectiveness in realizing tasks. the effectiveness of human feedback with the environment could enable agents to validate their action results. the action can have the perception module, the low - level motion planner and controller, especially in in robotics and autonomous driving. especially, the perception module, like human sensory systems, i. e. the eyes and ears, perceives variations in the environment and then transfers multimodal information into an unified representation for the agent',\n",
              "  -2.7031944)]"
            ]
          },
          "metadata": {},
          "execution_count": 118
        }
      ]
    },
    {
      "cell_type": "code",
      "source": [
        "# Extraindo os 5 documentos mais relevantes, com base na consulta do usuário,\n",
        "# com base na reordenação anteriormente realizada.\n",
        "\n",
        "top5_re_ranked_documents = [doc for doc, score in ranked_documents[:5]]"
      ],
      "metadata": {
        "id": "nUkPF-eVGBOp"
      },
      "execution_count": 119,
      "outputs": []
    },
    {
      "cell_type": "code",
      "source": [
        "# Visualizando os documentos com maior pontuação.\n",
        "\n",
        "top5_re_ranked_documents"
      ],
      "metadata": {
        "colab": {
          "base_uri": "https://localhost:8080/"
        },
        "id": "r-reidccEubU",
        "outputId": "d0f7fb2b-cc88-41ae-dab1-c69f4cae77ce"
      },
      "execution_count": 120,
      "outputs": [
        {
          "output_type": "execute_result",
          "data": {
            "text/plain": [
              "['levels of ai agents : from rules to large language models yu huang roboraction. ai abstract : ai agents are defined as artificial entities to perceive the environment, make decisions and take actions. inspired by the 6 levels of autonomous driving by sae ( society of automotive engineers ), the ai agents are also categorized based on utilities and strongness, as the following levels : l0 — no ai, with tools ( with perception ) plus actions ; l1 — use rule - based ai ; l2 — let rule - based ai replaced by il / rl - based ai, with additional reasoning & decision making ; l3 — apply llm - based ai instead of il / rl - based ai, additionally setting up memory & reflection ; l4 — based on l3, facilitating autonomous learning & generalization ; l5 — based on l4, appending personality ( emotion + character ) and collaborative behavior ( multi - agents ). 1 introduction any entity, that is able to perceive its environment and execute actions, can be regarded as an agent. agents can be categorized into five types : simple reflex agents, model - based reflex agents, goal - based agents, utility - based agents, and learning agents [ 1 ]',\n",
              " 'ai agents are capable to comprehend, predict, and response based on its training and input data. while these capabilities are developed and improved, it ’ s important to understand their limitations and the effect of the underlying data they are trained on. there are some abilities of ai agent systems : 1 ) perceiving and predictive modeling. 2 ) planning and decision making. 3 ) self - learning and continuous improvement ; 4 ) execution and interaction ; 5 ) personal and collaborative. the goal of embodied intelligence / ai is to build agents, such as robots, which learn to solve tasks with the need of interaction between agents and the environment. for ai agents, an effective approach to learn actions, such as rl, is to carry out trial - and - error experiences via interactions with the environment. training in the physical environment is often not feasible, so using simulators to learn policies is a common approach. symbolic ai [ 17 - 18 ] applied logical rules and symbolic representations to encapsulate knowledge and facilitate reasoning processes, in which critical problems are transduction and representation / reasoning. a classic example is knowledge - based expert systems',\n",
              " '. most of the large scale language models ( llms ) [ 4 ] appearing recently are among or based on the foundation models. due to the remarkable capabilities exhibited recently, llms are considered as potential penetration of ai for artificial general intelligence ( agi ), offering hope for building general ai agents. an ai agent mostly refers to an artificial entity that is able to perceive its surroundings using sensors, making decisions, and taking actions using actuators [ 5 ]. according to the notion of world scope ( ws ) [ 6 ] that audits the progress of nlp by encompassing 5 levels from nlp to general ai ( i. e., corpus, internet, perception, embodiment, and social ), the pure llms - based agents are only built on the 2nd level from the written internet world. except this, llms have proved remarkable capabilities in knowledge capture, instruction interpretation, generalization, planning, and reasoning, while showing natural language interactions with humans. from this status, the llm assisted agents with an expanded perception space and action space, have the potential to reach the 3rd and the 4th levels of world scope, i. e. perception ai and embodied ai respectively',\n",
              " '. it comes from the collaboration and competition amongst agents, appearing in consensus - based decision - making patterns. by exploiting communication within an agent society, it becomes possible to emulate the evolution in human societies and gain insights. 4. 6 hierarchical levels of ai agents finally the levels of ai agents are defined in table 3. table 3. levels of ai agents',\n",
              " '. the combination of implicit and explicit knowledge enable ai agents to apply knowledge contextually, akin to human intelligence. llm - based agents [ 25 - 35 ] employ llms as the primary component of brain or controller and expand their perceptual and action space through strategies such as multimodal perception and tool utilization. they can enable reasoning and planning abilities through techniques like chain - of - thought ( cot ) and task splitting. the llms has given rise to significant changes to ai agent design. these llm agents are not only proficient in comprehending and producing natural language but also good at generalization. this ability enables easy integration with various tools, enhancing their versatility. on the other hand, the emergent abilities of llms shows the advantage at reasoning. llm agents, with pre - trained knowledge, have been prone to decision - making strategies even without task - specific training. on the other hand, rl agents often need to train from scratch in unseen cases, employing interaction to learn. llm - based agents can interact with each other, giving rise to the emergence of social phenomena']"
            ]
          },
          "metadata": {},
          "execution_count": 120
        }
      ]
    },
    {
      "cell_type": "markdown",
      "source": [
        "## Realizando a técnica RAG, com os melhores documentos selecionados"
      ],
      "metadata": {
        "id": "aU_rko9XnmNe"
      }
    },
    {
      "cell_type": "code",
      "source": [
        "def rag(query, retrieved_documents, model = llm):\n",
        "\n",
        "  information = '\\n\\n'.join(retrieved_documents)\n",
        "\n",
        "  prompt_template = PromptTemplate(\n",
        "      input_variables = [\"query\", \"information\"],\n",
        "      template = (\"\"\"\n",
        "      You are an experienced and efficient generative AI developer.\n",
        "      You need to respond in a clear and informative way to the user's query\n",
        "      on the topic of AI agents. You will be presented with the user query\n",
        "      and the relevant parts of an article that talks about the topic.\n",
        "      Answer the user's question using only the information presented to you.\n",
        "\n",
        "      Question : {query}\n",
        "      Information : {information}\n",
        "\n",
        "      Helpful Answer :\n",
        "      \"\"\")\n",
        "  )\n",
        "\n",
        "  chain = LLMChain(llm = llm, prompt = prompt_template)\n",
        "\n",
        "  response = chain.run(query = query,\n",
        "                       information = information)\n",
        "\n",
        "  return"
      ],
      "metadata": {
        "id": "jLg4YJcdEvxD"
      },
      "execution_count": 129,
      "outputs": []
    },
    {
      "cell_type": "code",
      "source": [
        "bot = rag(original_query, top5_re_ranked_documents)"
      ],
      "metadata": {
        "id": "COuNv7dDHH3c"
      },
      "execution_count": 130,
      "outputs": []
    },
    {
      "cell_type": "code",
      "source": [
        "bot"
      ],
      "metadata": {
        "colab": {
          "base_uri": "https://localhost:8080/",
          "height": 70
        },
        "id": "lpVis_q2fUIg",
        "outputId": "b404a9d6-d3a2-4631-e016-0778d1aca7ca"
      },
      "execution_count": 131,
      "outputs": [
        {
          "output_type": "execute_result",
          "data": {
            "text/plain": [
              "'AI agents are artificial entities designed to perceive their environment, make decisions, and take actions based on their perceptions. They can be as simple as rule-based systems or as complex as large language models (LLMs) that can learn and adapt. \\n\\nEssentially, they are entities that can understand, predict, and respond based on their training and input data. \\n'"
            ],
            "application/vnd.google.colaboratory.intrinsic+json": {
              "type": "string"
            }
          },
          "metadata": {},
          "execution_count": 131
        }
      ]
    },
    {
      "cell_type": "code",
      "source": [],
      "metadata": {
        "id": "-t5ADNwyfVvI"
      },
      "execution_count": null,
      "outputs": []
    }
  ]
}